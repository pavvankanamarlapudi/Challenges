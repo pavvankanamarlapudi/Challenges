{
 "cells": [
  {
   "cell_type": "code",
   "execution_count": 117,
   "metadata": {},
   "outputs": [],
   "source": [
    "# string = list('The apple is brown and orrangeee is green')\n",
    "# string = list('abbcddefffgh')\n",
    "\n",
    "def get_repeated(string):\n",
    "    string = list(string)\n",
    "    level1=[]\n",
    "    for i,letter in enumerate(string):\n",
    "        try:\n",
    "            if string[i+1]!=letter:\n",
    "                level1.append(i)\n",
    "        except:\n",
    "            string[i]!=string[i-1]\n",
    "            level1.append(i) \n",
    "\n",
    "    for i in level1:\n",
    "        try:\n",
    "            if not string[i-1]==string[i] or  string[i]==string[i+1]:\n",
    "                if i==len(string)-1 and string[i-1]!=string[i]:\n",
    "                    string[i]=\"\"\n",
    "                else:\n",
    "                    string[i]=\"\"\n",
    "        except:\n",
    "            None\n",
    "    return \" \".join(string).strip()"
   ]
  },
  {
   "cell_type": "code",
   "execution_count": 118,
   "metadata": {},
   "outputs": [
    {
     "data": {
      "text/plain": [
       "'p p                  r r    e e e       e e'"
      ]
     },
     "execution_count": 118,
     "metadata": {},
     "output_type": "execute_result"
    }
   ],
   "source": [
    "get_repeated(\"The apple is brown and orrangeee is green\")"
   ]
  },
  {
   "cell_type": "code",
   "execution_count": 119,
   "metadata": {},
   "outputs": [
    {
     "data": {
      "text/plain": [
       "'b b  d d  f f f'"
      ]
     },
     "execution_count": 119,
     "metadata": {},
     "output_type": "execute_result"
    }
   ],
   "source": [
    "get_repeated('abbcddefffgh')"
   ]
  },
  {
   "cell_type": "markdown",
   "metadata": {},
   "source": [
    "#### SOL-2"
   ]
  },
  {
   "cell_type": "code",
   "execution_count": 135,
   "metadata": {},
   "outputs": [
    {
     "name": "stdout",
     "output_type": "stream",
     "text": [
      "pprreeeee"
     ]
    }
   ],
   "source": [
    "s=\"The apple is brown and orrangeee is green\"\n",
    "r=[]\n",
    "for i,l in enumerate(s):\n",
    "    try:\n",
    "        if s[i-1]==s[i] or s[i]==s[i+1]:\n",
    "            print(l,end='')\n",
    "            r.append(l)\n",
    "    except:\n",
    "        None"
   ]
  }
 ],
 "metadata": {
  "kernelspec": {
   "display_name": "Python 3",
   "language": "python",
   "name": "python3"
  },
  "language_info": {
   "codemirror_mode": {
    "name": "ipython",
    "version": 3
   },
   "file_extension": ".py",
   "mimetype": "text/x-python",
   "name": "python",
   "nbconvert_exporter": "python",
   "pygments_lexer": "ipython3",
   "version": "3.8.3"
  }
 },
 "nbformat": 4,
 "nbformat_minor": 4
}
