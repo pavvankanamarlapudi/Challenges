{
 "cells": [
  {
   "cell_type": "markdown",
   "metadata": {},
   "source": [
    "Given a number n, print each integer i from 1 to n inclusively as follows:\n",
    "\n",
    "If i is divisible by 3 (but not 5), print \"Three\"\n",
    "If i is divisible by 5 (but not 3), print \"Five\"\n",
    "If i is divisible by both 3 and 5, print \"ThreeFive\"\n",
    "Otherwise, if none of the above are true, just print the value of i\n",
    "\n",
    "Challenge: Can you solve the problem with less than three conditional statements ?"
   ]
  },
  {
   "cell_type": "code",
   "execution_count": 5,
   "metadata": {},
   "outputs": [],
   "source": [
    "def challenge(n):\n",
    "    array_dict = {3:'Three',5:'Five'}\n",
    "    d={}\n",
    "    for i in range(1,n+1):\n",
    "        for j in [3,5]:\n",
    "            if i%3==0 and i%5==0:\n",
    "                d[i]=array_dict[3]+array_dict[5]\n",
    "                break\n",
    "            if i%j==0:\n",
    "                d[i]=array_dict[j]\n",
    "        try:\n",
    "            print(d[i])\n",
    "        except Exception as e:\n",
    "            print(e)"
   ]
  },
  {
   "cell_type": "code",
   "execution_count": 6,
   "metadata": {},
   "outputs": [
    {
     "name": "stdout",
     "output_type": "stream",
     "text": [
      "1\n",
      "2\n",
      "Three\n",
      "4\n",
      "Five\n",
      "Three\n",
      "7\n",
      "8\n",
      "Three\n",
      "Five\n",
      "11\n",
      "Three\n",
      "13\n",
      "14\n",
      "ThreeFive\n",
      "16\n",
      "17\n",
      "Three\n"
     ]
    }
   ],
   "source": [
    "challenge(18)"
   ]
  }
 ],
 "metadata": {
  "kernelspec": {
   "display_name": "Python 3",
   "language": "python",
   "name": "python3"
  },
  "language_info": {
   "codemirror_mode": {
    "name": "ipython",
    "version": 3
   },
   "file_extension": ".py",
   "mimetype": "text/x-python",
   "name": "python",
   "nbconvert_exporter": "python",
   "pygments_lexer": "ipython3",
   "version": "3.8.3"
  }
 },
 "nbformat": 4,
 "nbformat_minor": 4
}
