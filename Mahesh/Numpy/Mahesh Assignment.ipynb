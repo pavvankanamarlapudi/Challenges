{
 "cells": [
  {
   "cell_type": "code",
   "execution_count": 161,
   "metadata": {},
   "outputs": [],
   "source": [
    "import pandas as pd\n",
    "import numpy as np\n",
    "np.set_printoptions(suppress=True)\n",
    "data = pd.read_csv(r\"C:\\Users\\pavan\\Downloads\\SP500.csv\")"
   ]
  },
  {
   "cell_type": "code",
   "execution_count": 47,
   "metadata": {},
   "outputs": [
    {
     "data": {
      "text/html": [
       "<div>\n",
       "<style scoped>\n",
       "    .dataframe tbody tr th:only-of-type {\n",
       "        vertical-align: middle;\n",
       "    }\n",
       "\n",
       "    .dataframe tbody tr th {\n",
       "        vertical-align: top;\n",
       "    }\n",
       "\n",
       "    .dataframe thead th {\n",
       "        text-align: right;\n",
       "    }\n",
       "</style>\n",
       "<table border=\"1\" class=\"dataframe\">\n",
       "  <thead>\n",
       "    <tr style=\"text-align: right;\">\n",
       "      <th></th>\n",
       "      <th>Date</th>\n",
       "      <th>Open</th>\n",
       "      <th>High</th>\n",
       "      <th>Low</th>\n",
       "      <th>Close</th>\n",
       "      <th>Adj Close</th>\n",
       "      <th>Volume</th>\n",
       "    </tr>\n",
       "  </thead>\n",
       "  <tbody>\n",
       "    <tr>\n",
       "      <th>0</th>\n",
       "      <td>1950-01-03</td>\n",
       "      <td>16.66</td>\n",
       "      <td>16.66</td>\n",
       "      <td>16.66</td>\n",
       "      <td>16.66</td>\n",
       "      <td>16.66</td>\n",
       "      <td>1260000</td>\n",
       "    </tr>\n",
       "    <tr>\n",
       "      <th>1</th>\n",
       "      <td>1950-01-04</td>\n",
       "      <td>16.85</td>\n",
       "      <td>16.85</td>\n",
       "      <td>16.85</td>\n",
       "      <td>16.85</td>\n",
       "      <td>16.85</td>\n",
       "      <td>1890000</td>\n",
       "    </tr>\n",
       "    <tr>\n",
       "      <th>2</th>\n",
       "      <td>1950-01-05</td>\n",
       "      <td>16.93</td>\n",
       "      <td>16.93</td>\n",
       "      <td>16.93</td>\n",
       "      <td>16.93</td>\n",
       "      <td>16.93</td>\n",
       "      <td>2550000</td>\n",
       "    </tr>\n",
       "    <tr>\n",
       "      <th>3</th>\n",
       "      <td>1950-01-06</td>\n",
       "      <td>16.98</td>\n",
       "      <td>16.98</td>\n",
       "      <td>16.98</td>\n",
       "      <td>16.98</td>\n",
       "      <td>16.98</td>\n",
       "      <td>2010000</td>\n",
       "    </tr>\n",
       "    <tr>\n",
       "      <th>4</th>\n",
       "      <td>1950-01-09</td>\n",
       "      <td>17.08</td>\n",
       "      <td>17.08</td>\n",
       "      <td>17.08</td>\n",
       "      <td>17.08</td>\n",
       "      <td>17.08</td>\n",
       "      <td>2520000</td>\n",
       "    </tr>\n",
       "  </tbody>\n",
       "</table>\n",
       "</div>"
      ],
      "text/plain": [
       "         Date   Open   High    Low  Close  Adj Close   Volume\n",
       "0  1950-01-03  16.66  16.66  16.66  16.66      16.66  1260000\n",
       "1  1950-01-04  16.85  16.85  16.85  16.85      16.85  1890000\n",
       "2  1950-01-05  16.93  16.93  16.93  16.93      16.93  2550000\n",
       "3  1950-01-06  16.98  16.98  16.98  16.98      16.98  2010000\n",
       "4  1950-01-09  17.08  17.08  17.08  17.08      17.08  2520000"
      ]
     },
     "execution_count": 47,
     "metadata": {},
     "output_type": "execute_result"
    }
   ],
   "source": [
    "data.head()"
   ]
  },
  {
   "cell_type": "code",
   "execution_count": 49,
   "metadata": {},
   "outputs": [],
   "source": [
    "data['Date'] = pd.to_datetime(data['Date'])"
   ]
  },
  {
   "cell_type": "markdown",
   "metadata": {},
   "source": [
    "#### Dataframe to array Conversion"
   ]
  },
  {
   "cell_type": "code",
   "execution_count": 107,
   "metadata": {},
   "outputs": [],
   "source": [
    "array_dat = data.to_numpy()"
   ]
  },
  {
   "cell_type": "code",
   "execution_count": 108,
   "metadata": {},
   "outputs": [
    {
     "data": {
      "text/plain": [
       "array([[Timestamp('1950-01-03 00:00:00'), 16.66, 16.66, 16.66, 16.66,\n",
       "        16.66, 1260000],\n",
       "       [Timestamp('1950-01-04 00:00:00'), 16.85, 16.85, 16.85, 16.85,\n",
       "        16.85, 1890000],\n",
       "       [Timestamp('1950-01-05 00:00:00'), 16.93, 16.93, 16.93, 16.93,\n",
       "        16.93, 2550000],\n",
       "       [Timestamp('1950-01-06 00:00:00'), 16.98, 16.98, 16.98, 16.98,\n",
       "        16.98, 2010000],\n",
       "       [Timestamp('1950-01-09 00:00:00'), 17.08, 17.08, 17.08, 17.08,\n",
       "        17.08, 2520000]], dtype=object)"
      ]
     },
     "execution_count": 108,
     "metadata": {},
     "output_type": "execute_result"
    }
   ],
   "source": [
    "array_dat[:5]"
   ]
  },
  {
   "cell_type": "markdown",
   "metadata": {},
   "source": [
    "#### Q1. The highest daily gain and its date, the highest daily loss and its date,"
   ]
  },
  {
   "cell_type": "code",
   "execution_count": 35,
   "metadata": {},
   "outputs": [
    {
     "data": {
      "text/plain": [
       "array(['2018-01-26', 2872.8701170000004], dtype=object)"
      ]
     },
     "execution_count": 35,
     "metadata": {},
     "output_type": "execute_result"
    }
   ],
   "source": [
    "## Daily Gain\n",
    "array_dat[array_dat[:,2]==max(array_dat[:,2])][0,[0,2]]"
   ]
  },
  {
   "cell_type": "code",
   "execution_count": 36,
   "metadata": {},
   "outputs": [
    {
     "data": {
      "text/plain": [
       "array(['2018-01-29', 2851.47998], dtype=object)"
      ]
     },
     "execution_count": 36,
     "metadata": {},
     "output_type": "execute_result"
    }
   ],
   "source": [
    "## Daily Loss\n",
    "array_dat[array_dat[:,3]==max(array_dat[:,3])][0,[0,3]]"
   ]
  },
  {
   "cell_type": "markdown",
   "metadata": {},
   "source": [
    "#### Q2. The most daily transaction volume and its date,"
   ]
  },
  {
   "cell_type": "code",
   "execution_count": 34,
   "metadata": {},
   "outputs": [
    {
     "data": {
      "text/plain": [
       "array(['2008-10-10', 11456230000], dtype=object)"
      ]
     },
     "execution_count": 34,
     "metadata": {},
     "output_type": "execute_result"
    }
   ],
   "source": [
    "array_dat[array_dat[:,-1]==max(array_dat[:,-1])][0,[0,-1]]"
   ]
  },
  {
   "cell_type": "code",
   "execution_count": 29,
   "metadata": {},
   "outputs": [
    {
     "data": {
      "text/plain": [
       "array([['2018-01-26', 2847.47998, 2872.8701170000004, 2846.179932,\n",
       "        2872.8701170000004, 2872.8701170000004, 3443230000]], dtype=object)"
      ]
     },
     "execution_count": 29,
     "metadata": {},
     "output_type": "execute_result"
    }
   ],
   "source": [
    "array_dat[array_dat[:,2]==max(array_dat[:,2])]"
   ]
  },
  {
   "cell_type": "markdown",
   "metadata": {},
   "source": [
    "#### Q4. a yearly report which has annual average open price, close price, transaction volume and gain/loss from 1950 to 2018, and the most profitable year,"
   ]
  },
  {
   "cell_type": "code",
   "execution_count": 109,
   "metadata": {},
   "outputs": [],
   "source": [
    "## year and month derivation from date.\n",
    "array_dat = np.insert(array_dat,1,[array_dat[i,0].year for i in range(array_dat.shape[0])],1)\n",
    "array_dat = np.insert(array_dat,1,[array_dat[i,0].month for i in range(array_dat.shape[0])],1)"
   ]
  },
  {
   "cell_type": "code",
   "execution_count": 141,
   "metadata": {},
   "outputs": [
    {
     "data": {
      "text/plain": [
       "array([Timestamp('1950-01-03 00:00:00'), 1, 1950, 16.66, 16.66, 16.66,\n",
       "       16.66, 16.66, 1260000], dtype=object)"
      ]
     },
     "execution_count": 141,
     "metadata": {},
     "output_type": "execute_result"
    }
   ],
   "source": [
    "array_dat[0]"
   ]
  },
  {
   "cell_type": "code",
   "execution_count": 156,
   "metadata": {},
   "outputs": [],
   "source": [
    "year_l,open_price,close_price,vol =[],[],[],[]\n",
    "for year in np.unique(array_dat[:,2]):\n",
    "    year_l.append(year)#year\n",
    "    open_price.append(array_dat[(array_dat[:,2]==year)][:,3].mean())#Open\n",
    "    close_price.append(array_dat[(array_dat[:,2]==year)][:,7].mean())#Close\n",
    "    vol.append(array_dat[(array_dat[:,2]==year)][:,-1].mean())#Volume"
   ]
  },
  {
   "cell_type": "code",
   "execution_count": 157,
   "metadata": {
    "collapsed": true
   },
   "outputs": [
    {
     "data": {
      "text/plain": [
       "array([[1.95000000e+03, 1.95100000e+03, 1.95200000e+03, 1.95300000e+03,\n",
       "        1.95400000e+03, 1.95500000e+03, 1.95600000e+03, 1.95700000e+03,\n",
       "        1.95800000e+03, 1.95900000e+03, 1.96000000e+03, 1.96100000e+03,\n",
       "        1.96200000e+03, 1.96300000e+03, 1.96400000e+03, 1.96500000e+03,\n",
       "        1.96600000e+03, 1.96700000e+03, 1.96800000e+03, 1.96900000e+03,\n",
       "        1.97000000e+03, 1.97100000e+03, 1.97200000e+03, 1.97300000e+03,\n",
       "        1.97400000e+03, 1.97500000e+03, 1.97600000e+03, 1.97700000e+03,\n",
       "        1.97800000e+03, 1.97900000e+03, 1.98000000e+03, 1.98100000e+03,\n",
       "        1.98200000e+03, 1.98300000e+03, 1.98400000e+03, 1.98500000e+03,\n",
       "        1.98600000e+03, 1.98700000e+03, 1.98800000e+03, 1.98900000e+03,\n",
       "        1.99000000e+03, 1.99100000e+03, 1.99200000e+03, 1.99300000e+03,\n",
       "        1.99400000e+03, 1.99500000e+03, 1.99600000e+03, 1.99700000e+03,\n",
       "        1.99800000e+03, 1.99900000e+03, 2.00000000e+03, 2.00100000e+03,\n",
       "        2.00200000e+03, 2.00300000e+03, 2.00400000e+03, 2.00500000e+03,\n",
       "        2.00600000e+03, 2.00700000e+03, 2.00800000e+03, 2.00900000e+03,\n",
       "        2.01000000e+03, 2.01100000e+03, 2.01200000e+03, 2.01300000e+03,\n",
       "        2.01400000e+03, 2.01500000e+03, 2.01600000e+03, 2.01700000e+03,\n",
       "        2.01800000e+03],\n",
       "       [1.83972692e+01, 2.23218876e+01, 2.44961601e+01, 2.47225897e+01,\n",
       "        2.97240873e+01, 4.04988492e+01, 4.66395219e+01, 4.44233730e+01,\n",
       "        4.62034524e+01, 5.74181817e+01, 5.58457540e+01, 6.62663201e+01,\n",
       "        6.23601191e+01, 6.98152589e+01, 8.13345060e+01, 8.81290475e+01,\n",
       "        8.52284919e+01, 9.18809960e+01, 9.83510177e+01, 9.78188399e+01,\n",
       "        8.31520474e+01, 9.83068775e+01, 1.09071036e+02, 1.07514167e+02,\n",
       "        8.28863242e+01, 8.60973123e+01, 1.01964466e+02, 9.82300793e+01,\n",
       "        9.61137696e+01, 1.02945731e+02, 1.18599605e+02, 1.28074466e+02,\n",
       "        1.19638142e+02, 1.60371541e+02, 1.60464506e+02, 1.86645873e+02,\n",
       "        2.36240790e+02, 2.86982134e+02, 2.65769486e+02, 3.22754603e+02,\n",
       "        3.34730475e+02, 3.75836639e+02, 4.15673976e+02, 4.51490039e+02,\n",
       "        4.60450913e+02, 5.41096429e+02, 6.70003032e+02, 8.72520001e+02,\n",
       "        1.08447718e+03, 1.32637703e+03, 1.42782115e+03, 1.19488379e+03,\n",
       "        9.94951590e+02, 9.64306945e+02, 1.13025552e+03, 1.20708706e+03,\n",
       "        1.30976259e+03, 1.47695836e+03, 1.22202696e+03, 9.47022063e+02,\n",
       "        1.13936976e+03, 1.26761821e+03, 1.37868064e+03, 1.64229865e+03,\n",
       "        1.93075449e+03, 2.06126802e+03, 2.09409155e+03, 2.44827589e+03,\n",
       "        2.71589579e+03],\n",
       "       [1.83972692e+01, 2.23218876e+01, 2.44961601e+01, 2.47225897e+01,\n",
       "        2.97240873e+01, 4.04988492e+01, 4.66395219e+01, 4.44233730e+01,\n",
       "        4.62034524e+01, 5.74181817e+01, 5.58457540e+01, 6.62663201e+01,\n",
       "        6.23207540e+01, 6.98593625e+01, 8.13728855e+01, 8.81572617e+01,\n",
       "        8.51816269e+01, 9.19558964e+01, 9.83771680e+01, 9.77725999e+01,\n",
       "        8.31541340e+01, 9.83150197e+01, 1.09134821e+02, 1.07438413e+02,\n",
       "        8.27809092e+01, 8.61812253e+01, 1.02035296e+02, 9.81818650e+01,\n",
       "        9.61139681e+01, 1.02999051e+02, 1.18710118e+02, 1.28037905e+02,\n",
       "        1.19705732e+02, 1.60473122e+02, 1.60463557e+02, 1.86828174e+02,\n",
       "        2.36390474e+02, 2.86998024e+02, 2.65880158e+02, 3.23051429e+02,\n",
       "        3.34632056e+02, 3.76186324e+02, 4.15747008e+02, 4.51614821e+02,\n",
       "        4.60416508e+02, 5.41719087e+02, 6.70494843e+02, 8.73427788e+02,\n",
       "        1.08550325e+03, 1.32732957e+03, 1.42722107e+03, 1.19417899e+03,\n",
       "        9.93934804e+02, 9.65227540e+02, 1.13064944e+03, 1.20722944e+03,\n",
       "        1.31046124e+03, 1.47718434e+03, 1.22004206e+03, 9.48046388e+02,\n",
       "        1.13996551e+03, 1.26763881e+03, 1.37935416e+03, 1.64379897e+03,\n",
       "        1.93137611e+03, 2.06106774e+03, 2.09465126e+03, 2.44907638e+03,\n",
       "        2.71382913e+03],\n",
       "       [2.00923695e+06, 1.71759036e+06, 1.30816000e+06, 1.41314741e+06,\n",
       "        2.26976190e+06, 2.57321429e+06, 2.21446215e+06, 2.21714286e+06,\n",
       "        2.96293651e+06, 3.24130435e+06, 3.04142857e+06, 4.07144000e+06,\n",
       "        3.82865079e+06, 4.57123506e+06, 4.88584980e+06, 6.17206349e+06,\n",
       "        7.52892857e+06, 1.00749801e+07, 1.29676991e+07, 1.13879200e+07,\n",
       "        1.16012992e+07, 1.53942292e+07, 1.64835458e+07, 1.61023016e+07,\n",
       "        1.39035573e+07, 1.85661265e+07, 2.11822530e+07, 2.09432540e+07,\n",
       "        2.85717460e+07, 3.22642688e+07, 4.48641502e+07, 4.68570751e+07,\n",
       "        6.50449802e+07, 8.53096047e+07, 9.12238340e+07, 1.09166905e+08,\n",
       "        1.41025652e+08, 1.88926719e+08, 1.61454625e+08, 1.65458690e+08,\n",
       "        1.56848735e+08, 1.79204150e+08, 2.02025984e+08, 2.64712213e+08,\n",
       "        2.91461667e+08, 3.46203770e+08, 4.11420118e+08, 5.25648142e+08,\n",
       "        6.72261706e+08, 8.08341984e+08, 1.03448913e+09, 1.23206766e+09,\n",
       "        1.42902639e+09, 1.38445099e+09, 1.42320377e+09, 1.91990365e+09,\n",
       "        2.39451299e+09, 3.22743765e+09, 5.03322292e+09, 5.57320754e+09,\n",
       "        4.56937139e+09, 4.10905583e+09, 3.63167712e+09, 3.35896663e+09,\n",
       "        3.35478266e+09, 3.65562937e+09, 3.90523202e+09, 3.41230331e+09,\n",
       "        3.68769617e+09]])"
      ]
     },
     "execution_count": 157,
     "metadata": {},
     "output_type": "execute_result"
    }
   ],
   "source": [
    "yearly_result_array = np.array([year_l,open_price,close_price,vol])\n",
    "yearly_result_array"
   ]
  },
  {
   "cell_type": "markdown",
   "metadata": {},
   "source": [
    "#### Q3. a monthly report for year 2017-2018, which has monthly average open price, close price, transaction volume and gain/loss, and a query to find all of the months which have certain range of open prices"
   ]
  },
  {
   "cell_type": "code",
   "execution_count": 142,
   "metadata": {},
   "outputs": [
    {
     "data": {
      "text/plain": [
       "array([[Timestamp('1950-01-03 00:00:00'), 1, 1950, ..., 16.66, 16.66,\n",
       "        1260000],\n",
       "       [Timestamp('1950-01-04 00:00:00'), 1, 1950, ..., 16.85, 16.85,\n",
       "        1890000],\n",
       "       [Timestamp('1950-01-05 00:00:00'), 1, 1950, ..., 16.93, 16.93,\n",
       "        2550000],\n",
       "       ...,\n",
       "       [Timestamp('2018-04-25 00:00:00'), 4, 2018, ..., 2639.399902,\n",
       "        2639.399902, 3499440000],\n",
       "       [Timestamp('2018-04-26 00:00:00'), 4, 2018, ..., 2666.939941,\n",
       "        2666.939941, 3665720000],\n",
       "       [Timestamp('2018-04-27 00:00:00'), 4, 2018, ..., 2669.909912,\n",
       "        2669.909912, 3219030000]], dtype=object)"
      ]
     },
     "execution_count": 142,
     "metadata": {},
     "output_type": "execute_result"
    }
   ],
   "source": [
    "array_dat"
   ]
  },
  {
   "cell_type": "code",
   "execution_count": 159,
   "metadata": {},
   "outputs": [],
   "source": [
    "month_l,monthly_avg_open,monthly_avg_close,monthly_avg_vol =[],[],[],[]\n",
    "for month in np.unique(array_dat[:,1]):\n",
    "    month_l.append(month)#year\n",
    "    monthly_avg_open.append(array_dat[(array_dat[:,1]==month)][:,3].mean())#Open\n",
    "    monthly_avg_close.append(array_dat[(array_dat[:,1]==month)][:,7].mean())#Close\n",
    "    monthly_avg_vol.append(array_dat[(array_dat[:,1]==month)][:,-1].mean())#Volume"
   ]
  },
  {
   "cell_type": "code",
   "execution_count": 160,
   "metadata": {
    "collapsed": true
   },
   "outputs": [
    {
     "data": {
      "text/plain": [
       "array([[1.00000000e+00, 5.38658878e+02, 5.38693080e+02, 9.22798311e+08],\n",
       "       [2.00000000e+00, 5.55376968e+02, 5.55448098e+02, 9.26201994e+08],\n",
       "       [3.00000000e+00, 5.58084964e+02, 5.58365713e+02, 9.38565674e+08],\n",
       "       [4.00000000e+00, 5.61634638e+02, 5.61908749e+02, 9.22492905e+08],\n",
       "       [5.00000000e+00, 5.37514951e+02, 5.37651368e+02, 8.79650812e+08],\n",
       "       [6.00000000e+00, 5.40314628e+02, 5.40242669e+02, 8.73219395e+08],\n",
       "       [7.00000000e+00, 5.41979748e+02, 5.42111879e+02, 8.61644389e+08],\n",
       "       [8.00000000e+00, 5.41273562e+02, 5.41127184e+02, 8.24172630e+08],\n",
       "       [9.00000000e+00, 5.38466075e+02, 5.38324701e+02, 9.06422107e+08],\n",
       "       [1.00000000e+01, 5.38457953e+02, 5.38761766e+02, 9.36216388e+08],\n",
       "       [1.10000000e+01, 5.56864032e+02, 5.57249066e+02, 9.07776811e+08],\n",
       "       [1.20000000e+01, 5.56192928e+02, 5.56440462e+02, 8.38438477e+08]])"
      ]
     },
     "execution_count": 160,
     "metadata": {},
     "output_type": "execute_result"
    }
   ],
   "source": [
    "monthly_result_array = np.array([month_l,monthly_avg_open,monthly_avg_close,monthly_avg_vol])\n",
    "monthly_result_array.T"
   ]
  },
  {
   "cell_type": "markdown",
   "metadata": {},
   "source": [
    "#### Q5. A every other five year report which has every five year average open price, close price, transaction volume and gain/loss from 1950 to 2018, and the most profitable five year,"
   ]
  },
  {
   "cell_type": "code",
   "execution_count": 164,
   "metadata": {},
   "outputs": [],
   "source": [
    "np.set_printoptions(suppress=True)\n",
    "yearly_result_array  = yearly_result_array.T"
   ]
  },
  {
   "cell_type": "code",
   "execution_count": 173,
   "metadata": {
    "scrolled": true
   },
   "outputs": [
    {
     "name": "stdout",
     "output_type": "stream",
     "text": [
      "1950 1955\n",
      "1955 1960\n",
      "1960 1965\n",
      "1965 1970\n",
      "1970 1975\n",
      "1975 1980\n",
      "1980 1985\n",
      "1985 1990\n",
      "1990 1995\n",
      "1995 2000\n",
      "2000 2005\n",
      "2005 2010\n",
      "2010 2015\n",
      "2015 2020\n"
     ]
    }
   ],
   "source": [
    "cnt=0\n",
    "start=1950\n",
    "while end<2018:\n",
    "    end=start+5\n",
    "    print(start,end)\n",
    "    start=end\n",
    "    cnt=cnt+1"
   ]
  },
  {
   "cell_type": "code",
   "execution_count": 184,
   "metadata": {},
   "outputs": [
    {
     "data": {
      "text/plain": [
       "array([[   1950.        ,      18.39726916,      18.39726916,\n",
       "        2009236.94779116],\n",
       "       [   1951.        ,      22.32188759,      22.32188759,\n",
       "        1717590.36144578],\n",
       "       [   1952.        ,      24.4961601 ,      24.4961601 ,\n",
       "        1308160.        ],\n",
       "       [   1953.        ,      24.7225897 ,      24.7225897 ,\n",
       "        1413147.41035857],\n",
       "       [   1954.        ,      29.72408735,      29.72408735,\n",
       "        2269761.9047619 ],\n",
       "       [   1955.        ,      40.49884918,      40.49884918,\n",
       "        2573214.28571429]])"
      ]
     },
     "execution_count": 184,
     "metadata": {},
     "output_type": "execute_result"
    }
   ],
   "source": [
    "yearly_result_array[(yearly_result_array[:,0]>=1950) & (yearly_result_array[:,0]<=1955),1]\n",
    "yearly_result_array[(yearly_result_array[:,0]>=1950) & (yearly_result_array[:,0]<=1955),2]\n",
    "yearly_result_array[(yearly_result_array[:,0]>=1950) & (yearly_result_array[:,0]<=1955),3]"
   ]
  },
  {
   "cell_type": "code",
   "execution_count": 192,
   "metadata": {},
   "outputs": [
    {
     "name": "stdout",
     "output_type": "stream",
     "text": [
      "1950-1955 avg computed and saved in array!\n",
      "1955-1960 avg computed and saved in array!\n",
      "1960-1965 avg computed and saved in array!\n",
      "1965-1970 avg computed and saved in array!\n",
      "1970-1975 avg computed and saved in array!\n",
      "1975-1980 avg computed and saved in array!\n",
      "1980-1985 avg computed and saved in array!\n",
      "1985-1990 avg computed and saved in array!\n",
      "1990-1995 avg computed and saved in array!\n",
      "1995-2000 avg computed and saved in array!\n",
      "2000-2005 avg computed and saved in array!\n",
      "2005-2010 avg computed and saved in array!\n",
      "2010-2015 avg computed and saved in array!\n",
      "2015-2020 avg computed and saved in array!\n"
     ]
    }
   ],
   "source": [
    "fy_year_l,fy_open_price,fy_close_price,fy_vol =[],[],[],[]\n",
    "cnt=0\n",
    "start=end=1950\n",
    "while end<2018:\n",
    "    end=start+5\n",
    "    print(f\"{start}-{end} avg computed and saved in array!\")\n",
    "    fy_year_l.append(f\"{start}-{end}\")\n",
    "    fy_open_price.append(yearly_result_array[(yearly_result_array[:,0]>=start) & (yearly_result_array[:,0]<=end),1].mean())\n",
    "    fy_close_price.append(yearly_result_array[(yearly_result_array[:,0]>=start) & (yearly_result_array[:,0]<=end),2].mean())\n",
    "    fy_vol.append(yearly_result_array[(yearly_result_array[:,0]>=start) & (yearly_result_array[:,0]<=end),3].mean())\n",
    "    start=end\n",
    "    cnt=cnt+1"
   ]
  },
  {
   "cell_type": "code",
   "execution_count": 193,
   "metadata": {},
   "outputs": [
    {
     "data": {
      "text/plain": [
       "array([['1950-1955', '26.69347384666817', '26.69347384666817',\n",
       "        '1881851.8183452839'],\n",
       "       ['1955-1960', '48.50485536656382', '48.50485536656382',\n",
       "        '2708414.786907122'],\n",
       "       ['1960-1965', '70.62516759792071', '70.63705629109761',\n",
       "        '4428444.619879226'],\n",
       "       ['1965-1970', '90.76007339287521', '90.76644781844902',\n",
       "        '9955481.745136002'],\n",
       "       ['1970-1975', '94.50462734000882', '94.50075362144071',\n",
       "        '15341843.276685223'],\n",
       "       ['1975-1980', '100.65849391166842', '100.70358739002864',\n",
       "        '27731966.40316206'],\n",
       "       ['1980-1985', '145.63235553664228', '145.70310144023827',\n",
       "        '73744424.83844657'],\n",
       "       ['1985-1990', '272.18722677968077', '272.29671913162935',\n",
       "        '153813554.4105653'],\n",
       "       ['1990-1995', '429.8797452068139', '430.0526339340947',\n",
       "        '240076086.59568906'],\n",
       "       ['1995-2000', '987.0491365077551', '987.6159343484311',\n",
       "        '633060807.950719'],\n",
       "       ['2000-2005', '1153.2176759239844', '1153.073549165248',\n",
       "        '1403856931.643625'],\n",
       "       ['2005-2010', '1217.0377995457923', '1217.154829515328',\n",
       "        '3786276023.619411'],\n",
       "       ['2010-2015', '1569.998293236339', '1570.5335501139734',\n",
       "        '3779913832.169312'],\n",
       "       ['2015-2020', '2329.882811929684', '2329.656128246414',\n",
       "        '3665215217.1253257']], dtype='<U18')"
      ]
     },
     "execution_count": 193,
     "metadata": {},
     "output_type": "execute_result"
    }
   ],
   "source": [
    "fiveYear_result_array = np.array([fy_year_l,fy_open_price,fy_close_price,fy_vol])\n",
    "fiveYear_result_array.T"
   ]
  },
  {
   "cell_type": "code",
   "execution_count": null,
   "metadata": {},
   "outputs": [],
   "source": []
  }
 ],
 "metadata": {
  "kernelspec": {
   "display_name": "Python 3",
   "language": "python",
   "name": "python3"
  },
  "language_info": {
   "codemirror_mode": {
    "name": "ipython",
    "version": 3
   },
   "file_extension": ".py",
   "mimetype": "text/x-python",
   "name": "python",
   "nbconvert_exporter": "python",
   "pygments_lexer": "ipython3",
   "version": "3.8.3"
  }
 },
 "nbformat": 4,
 "nbformat_minor": 4
}
