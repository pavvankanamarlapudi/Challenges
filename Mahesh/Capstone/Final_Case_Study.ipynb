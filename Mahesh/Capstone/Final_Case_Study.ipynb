{
  "nbformat": 4,
  "nbformat_minor": 0,
  "metadata": {
    "colab": {
      "name": "Final Case Study.ipynb",
      "provenance": [],
      "collapsed_sections": []
    },
    "kernelspec": {
      "name": "python3",
      "display_name": "Python 3"
    },
    "language_info": {
      "name": "python"
    }
  },
  "cells": [
    {
      "cell_type": "code",
      "execution_count": null,
      "metadata": {
        "colab": {
          "base_uri": "https://localhost:8080/"
        },
        "id": "uJ_jOROxDBab",
        "outputId": "ee64d1f2-ffc3-47dc-e8ff-06612c36d9b7"
      },
      "outputs": [
        {
          "output_type": "stream",
          "name": "stdout",
          "text": [
            "Drive already mounted at /content/gdrive; to attempt to forcibly remount, call drive.mount(\"/content/gdrive\", force_remount=True).\n"
          ]
        }
      ],
      "source": [
        "from google.colab import drive\n",
        "drive.mount('/content/gdrive')"
      ]
    },
    {
      "cell_type": "code",
      "source": [
        "# !unzip  /content/gdrive/MyDrive/data/archive.zip -d /content/gdrive/MyDrive/data/"
      ],
      "metadata": {
        "id": "NPajLq-TDa1k"
      },
      "execution_count": null,
      "outputs": []
    },
    {
      "cell_type": "code",
      "source": [
        "import pandas as pd\n",
        "import os\n",
        "import itertools\n",
        "import numpy as np\n",
        "import matplotlib.pyplot as plt\n",
        "%matplotlib inline \n"
      ],
      "metadata": {
        "id": "or53V2LdDX52"
      },
      "execution_count": null,
      "outputs": []
    },
    {
      "cell_type": "code",
      "source": [
        "os.chdir('/content/gdrive/MyDrive/data/')"
      ],
      "metadata": {
        "id": "yG7HkmdncnYI"
      },
      "execution_count": null,
      "outputs": []
    },
    {
      "cell_type": "code",
      "source": [
        "files = [x for x in os.listdir()  if x.endswith('csv') if not x in ['divvy-tripdata_Quality_Report.csv']]\n",
        "files"
      ],
      "metadata": {
        "colab": {
          "base_uri": "https://localhost:8080/"
        },
        "id": "k6WIJpe4rTEQ",
        "outputId": "8d69cf73-1497-46d8-f094-545093f0cd65"
      },
      "execution_count": null,
      "outputs": [
        {
          "output_type": "execute_result",
          "data": {
            "text/plain": [
              "['202103-divvy-tripdata.csv',\n",
              " '202104-divvy-tripdata.csv',\n",
              " '202105-divvy-tripdata.csv',\n",
              " '202106-divvy-tripdata.csv',\n",
              " '202107-divvy-tripdata.csv',\n",
              " '202108-divvy-tripdata.csv',\n",
              " '202109-divvy-tripdata.csv',\n",
              " '202110-divvy-tripdata.csv',\n",
              " '202111-divvy-tripdata.csv',\n",
              " '202112-divvy-tripdata.csv',\n",
              " '202201-divvy-tripdata.csv',\n",
              " '202202-divvy-tripdata.csv']"
            ]
          },
          "metadata": {},
          "execution_count": 5
        }
      ]
    },
    {
      "cell_type": "markdown",
      "source": [
        "# **Loading Datasets**\n",
        "\n",
        "---\n",
        "\n"
      ],
      "metadata": {
        "id": "2GszKHZdp935"
      }
    },
    {
      "cell_type": "markdown",
      "source": [
        "### **Merging all months data into One single Dataframe**"
      ],
      "metadata": {
        "id": "kwlMNG1KhmSS"
      }
    },
    {
      "cell_type": "code",
      "source": [
        "final_data = pd.DataFrame()\n",
        "attributes = []\n",
        "for file in files:\n",
        "  data = pd.read_csv(file)\n",
        "  # print(data.columns)\n",
        "  attributes.append(list(data.columns),)\n",
        "  final_data = final_data.append(data)\n",
        "  # print(f\"{file} columns considered!\")\n",
        "  print(f\"\\nFile:{file}, Total Rows:{data.shape[0]}, Total Attribues:{data.shape[1]}\")"
      ],
      "metadata": {
        "colab": {
          "base_uri": "https://localhost:8080/"
        },
        "id": "OoPSu20mFWOk",
        "outputId": "30668ec4-d5cf-4aa5-bbae-84d26f37675f"
      },
      "execution_count": null,
      "outputs": [
        {
          "output_type": "stream",
          "name": "stdout",
          "text": [
            "\n",
            "File:202103-divvy-tripdata.csv, Total Rows:228496, Total Attribues:13\n",
            "\n",
            "File:202104-divvy-tripdata.csv, Total Rows:337230, Total Attribues:13\n",
            "\n",
            "File:202105-divvy-tripdata.csv, Total Rows:531633, Total Attribues:13\n",
            "\n",
            "File:202106-divvy-tripdata.csv, Total Rows:729595, Total Attribues:13\n",
            "\n",
            "File:202107-divvy-tripdata.csv, Total Rows:822410, Total Attribues:13\n",
            "\n",
            "File:202108-divvy-tripdata.csv, Total Rows:804352, Total Attribues:13\n",
            "\n",
            "File:202109-divvy-tripdata.csv, Total Rows:756147, Total Attribues:13\n",
            "\n",
            "File:202110-divvy-tripdata.csv, Total Rows:631226, Total Attribues:13\n",
            "\n",
            "File:202111-divvy-tripdata.csv, Total Rows:359978, Total Attribues:13\n",
            "\n",
            "File:202112-divvy-tripdata.csv, Total Rows:247540, Total Attribues:13\n",
            "\n",
            "File:202201-divvy-tripdata.csv, Total Rows:103770, Total Attribues:13\n",
            "\n",
            "File:202202-divvy-tripdata.csv, Total Rows:115609, Total Attribues:13\n"
          ]
        }
      ]
    },
    {
      "cell_type": "code",
      "source": [
        "all_columns = list(set(list(itertools.chain(*attributes))))\n",
        "all_columns"
      ],
      "metadata": {
        "colab": {
          "base_uri": "https://localhost:8080/"
        },
        "id": "q0qEif3tGyCe",
        "outputId": "bb5851e9-d29e-4bc9-bf49-46e0209efcb3"
      },
      "execution_count": null,
      "outputs": [
        {
          "output_type": "execute_result",
          "data": {
            "text/plain": [
              "['ride_id',\n",
              " 'end_lat',\n",
              " 'end_station_id',\n",
              " 'started_at',\n",
              " 'end_lng',\n",
              " 'member_casual',\n",
              " 'start_station_name',\n",
              " 'ended_at',\n",
              " 'start_lat',\n",
              " 'end_station_name',\n",
              " 'start_lng',\n",
              " 'start_station_id',\n",
              " 'rideable_type']"
            ]
          },
          "metadata": {},
          "execution_count": 7
        }
      ]
    },
    {
      "cell_type": "code",
      "source": [
        "print(\"Total Records:\",final_data.shape[0])\n",
        "print(\"Total Attributes:\",final_data.shape[1])"
      ],
      "metadata": {
        "colab": {
          "base_uri": "https://localhost:8080/"
        },
        "id": "tPX2of9NHwP-",
        "outputId": "c7a01192-bea8-44ae-b488-22e6eb959228"
      },
      "execution_count": null,
      "outputs": [
        {
          "output_type": "stream",
          "name": "stdout",
          "text": [
            "Total Records: 5667986\n",
            "Total Attributes: 13\n"
          ]
        }
      ]
    },
    {
      "cell_type": "code",
      "source": [
        "final_data.head()"
      ],
      "metadata": {
        "colab": {
          "base_uri": "https://localhost:8080/",
          "height": 444
        },
        "id": "nsYM4oFAHYRU",
        "outputId": "ffcbe7a3-5e59-4150-ac38-331645621def"
      },
      "execution_count": null,
      "outputs": [
        {
          "output_type": "execute_result",
          "data": {
            "text/plain": [
              "            ride_id rideable_type           started_at             ended_at  \\\n",
              "0  CFA86D4455AA1030  classic_bike  2021-03-16 08:32:30  2021-03-16 08:36:34   \n",
              "1  30D9DC61227D1AF3  classic_bike  2021-03-28 01:26:28  2021-03-28 01:36:55   \n",
              "2  846D87A15682A284  classic_bike  2021-03-11 21:17:29  2021-03-11 21:33:53   \n",
              "3  994D05AA75A168F2  classic_bike  2021-03-11 13:26:42  2021-03-11 13:55:41   \n",
              "4  DF7464FBE92D8308  classic_bike  2021-03-21 09:09:37  2021-03-21 09:27:33   \n",
              "\n",
              "             start_station_name start_station_id  \\\n",
              "0  Humboldt Blvd & Armitage Ave            15651   \n",
              "1  Humboldt Blvd & Armitage Ave            15651   \n",
              "2         Shields Ave & 28th Pl            15443   \n",
              "3   Winthrop Ave & Lawrence Ave     TA1308000021   \n",
              "4      Glenwood Ave & Touhy Ave              525   \n",
              "\n",
              "                      end_station_name end_station_id  start_lat  start_lng  \\\n",
              "0              Stave St & Armitage Ave          13266  41.917513 -87.701809   \n",
              "1  Central Park Ave & Bloomingdale Ave          18017  41.917513 -87.701809   \n",
              "2                 Halsted St & 35th St   TA1308000043  41.842733 -87.635491   \n",
              "3               Broadway & Sheridan Rd          13323  41.968812 -87.657659   \n",
              "4            Chicago Ave & Sheridan Rd           E008  42.012701 -87.666058   \n",
              "\n",
              "     end_lat    end_lng member_casual  \n",
              "0  41.917741 -87.691392        casual  \n",
              "1  41.914166 -87.716755        casual  \n",
              "2  41.830661 -87.647172        casual  \n",
              "3  41.952833 -87.649993        casual  \n",
              "4  42.050491 -87.677821        casual  "
            ],
            "text/html": [
              "\n",
              "  <div id=\"df-40affa6d-652a-4d77-94b9-7483b5769363\">\n",
              "    <div class=\"colab-df-container\">\n",
              "      <div>\n",
              "<style scoped>\n",
              "    .dataframe tbody tr th:only-of-type {\n",
              "        vertical-align: middle;\n",
              "    }\n",
              "\n",
              "    .dataframe tbody tr th {\n",
              "        vertical-align: top;\n",
              "    }\n",
              "\n",
              "    .dataframe thead th {\n",
              "        text-align: right;\n",
              "    }\n",
              "</style>\n",
              "<table border=\"1\" class=\"dataframe\">\n",
              "  <thead>\n",
              "    <tr style=\"text-align: right;\">\n",
              "      <th></th>\n",
              "      <th>ride_id</th>\n",
              "      <th>rideable_type</th>\n",
              "      <th>started_at</th>\n",
              "      <th>ended_at</th>\n",
              "      <th>start_station_name</th>\n",
              "      <th>start_station_id</th>\n",
              "      <th>end_station_name</th>\n",
              "      <th>end_station_id</th>\n",
              "      <th>start_lat</th>\n",
              "      <th>start_lng</th>\n",
              "      <th>end_lat</th>\n",
              "      <th>end_lng</th>\n",
              "      <th>member_casual</th>\n",
              "    </tr>\n",
              "  </thead>\n",
              "  <tbody>\n",
              "    <tr>\n",
              "      <th>0</th>\n",
              "      <td>CFA86D4455AA1030</td>\n",
              "      <td>classic_bike</td>\n",
              "      <td>2021-03-16 08:32:30</td>\n",
              "      <td>2021-03-16 08:36:34</td>\n",
              "      <td>Humboldt Blvd &amp; Armitage Ave</td>\n",
              "      <td>15651</td>\n",
              "      <td>Stave St &amp; Armitage Ave</td>\n",
              "      <td>13266</td>\n",
              "      <td>41.917513</td>\n",
              "      <td>-87.701809</td>\n",
              "      <td>41.917741</td>\n",
              "      <td>-87.691392</td>\n",
              "      <td>casual</td>\n",
              "    </tr>\n",
              "    <tr>\n",
              "      <th>1</th>\n",
              "      <td>30D9DC61227D1AF3</td>\n",
              "      <td>classic_bike</td>\n",
              "      <td>2021-03-28 01:26:28</td>\n",
              "      <td>2021-03-28 01:36:55</td>\n",
              "      <td>Humboldt Blvd &amp; Armitage Ave</td>\n",
              "      <td>15651</td>\n",
              "      <td>Central Park Ave &amp; Bloomingdale Ave</td>\n",
              "      <td>18017</td>\n",
              "      <td>41.917513</td>\n",
              "      <td>-87.701809</td>\n",
              "      <td>41.914166</td>\n",
              "      <td>-87.716755</td>\n",
              "      <td>casual</td>\n",
              "    </tr>\n",
              "    <tr>\n",
              "      <th>2</th>\n",
              "      <td>846D87A15682A284</td>\n",
              "      <td>classic_bike</td>\n",
              "      <td>2021-03-11 21:17:29</td>\n",
              "      <td>2021-03-11 21:33:53</td>\n",
              "      <td>Shields Ave &amp; 28th Pl</td>\n",
              "      <td>15443</td>\n",
              "      <td>Halsted St &amp; 35th St</td>\n",
              "      <td>TA1308000043</td>\n",
              "      <td>41.842733</td>\n",
              "      <td>-87.635491</td>\n",
              "      <td>41.830661</td>\n",
              "      <td>-87.647172</td>\n",
              "      <td>casual</td>\n",
              "    </tr>\n",
              "    <tr>\n",
              "      <th>3</th>\n",
              "      <td>994D05AA75A168F2</td>\n",
              "      <td>classic_bike</td>\n",
              "      <td>2021-03-11 13:26:42</td>\n",
              "      <td>2021-03-11 13:55:41</td>\n",
              "      <td>Winthrop Ave &amp; Lawrence Ave</td>\n",
              "      <td>TA1308000021</td>\n",
              "      <td>Broadway &amp; Sheridan Rd</td>\n",
              "      <td>13323</td>\n",
              "      <td>41.968812</td>\n",
              "      <td>-87.657659</td>\n",
              "      <td>41.952833</td>\n",
              "      <td>-87.649993</td>\n",
              "      <td>casual</td>\n",
              "    </tr>\n",
              "    <tr>\n",
              "      <th>4</th>\n",
              "      <td>DF7464FBE92D8308</td>\n",
              "      <td>classic_bike</td>\n",
              "      <td>2021-03-21 09:09:37</td>\n",
              "      <td>2021-03-21 09:27:33</td>\n",
              "      <td>Glenwood Ave &amp; Touhy Ave</td>\n",
              "      <td>525</td>\n",
              "      <td>Chicago Ave &amp; Sheridan Rd</td>\n",
              "      <td>E008</td>\n",
              "      <td>42.012701</td>\n",
              "      <td>-87.666058</td>\n",
              "      <td>42.050491</td>\n",
              "      <td>-87.677821</td>\n",
              "      <td>casual</td>\n",
              "    </tr>\n",
              "  </tbody>\n",
              "</table>\n",
              "</div>\n",
              "      <button class=\"colab-df-convert\" onclick=\"convertToInteractive('df-40affa6d-652a-4d77-94b9-7483b5769363')\"\n",
              "              title=\"Convert this dataframe to an interactive table.\"\n",
              "              style=\"display:none;\">\n",
              "        \n",
              "  <svg xmlns=\"http://www.w3.org/2000/svg\" height=\"24px\"viewBox=\"0 0 24 24\"\n",
              "       width=\"24px\">\n",
              "    <path d=\"M0 0h24v24H0V0z\" fill=\"none\"/>\n",
              "    <path d=\"M18.56 5.44l.94 2.06.94-2.06 2.06-.94-2.06-.94-.94-2.06-.94 2.06-2.06.94zm-11 1L8.5 8.5l.94-2.06 2.06-.94-2.06-.94L8.5 2.5l-.94 2.06-2.06.94zm10 10l.94 2.06.94-2.06 2.06-.94-2.06-.94-.94-2.06-.94 2.06-2.06.94z\"/><path d=\"M17.41 7.96l-1.37-1.37c-.4-.4-.92-.59-1.43-.59-.52 0-1.04.2-1.43.59L10.3 9.45l-7.72 7.72c-.78.78-.78 2.05 0 2.83L4 21.41c.39.39.9.59 1.41.59.51 0 1.02-.2 1.41-.59l7.78-7.78 2.81-2.81c.8-.78.8-2.07 0-2.86zM5.41 20L4 18.59l7.72-7.72 1.47 1.35L5.41 20z\"/>\n",
              "  </svg>\n",
              "      </button>\n",
              "      \n",
              "  <style>\n",
              "    .colab-df-container {\n",
              "      display:flex;\n",
              "      flex-wrap:wrap;\n",
              "      gap: 12px;\n",
              "    }\n",
              "\n",
              "    .colab-df-convert {\n",
              "      background-color: #E8F0FE;\n",
              "      border: none;\n",
              "      border-radius: 50%;\n",
              "      cursor: pointer;\n",
              "      display: none;\n",
              "      fill: #1967D2;\n",
              "      height: 32px;\n",
              "      padding: 0 0 0 0;\n",
              "      width: 32px;\n",
              "    }\n",
              "\n",
              "    .colab-df-convert:hover {\n",
              "      background-color: #E2EBFA;\n",
              "      box-shadow: 0px 1px 2px rgba(60, 64, 67, 0.3), 0px 1px 3px 1px rgba(60, 64, 67, 0.15);\n",
              "      fill: #174EA6;\n",
              "    }\n",
              "\n",
              "    [theme=dark] .colab-df-convert {\n",
              "      background-color: #3B4455;\n",
              "      fill: #D2E3FC;\n",
              "    }\n",
              "\n",
              "    [theme=dark] .colab-df-convert:hover {\n",
              "      background-color: #434B5C;\n",
              "      box-shadow: 0px 1px 3px 1px rgba(0, 0, 0, 0.15);\n",
              "      filter: drop-shadow(0px 1px 2px rgba(0, 0, 0, 0.3));\n",
              "      fill: #FFFFFF;\n",
              "    }\n",
              "  </style>\n",
              "\n",
              "      <script>\n",
              "        const buttonEl =\n",
              "          document.querySelector('#df-40affa6d-652a-4d77-94b9-7483b5769363 button.colab-df-convert');\n",
              "        buttonEl.style.display =\n",
              "          google.colab.kernel.accessAllowed ? 'block' : 'none';\n",
              "\n",
              "        async function convertToInteractive(key) {\n",
              "          const element = document.querySelector('#df-40affa6d-652a-4d77-94b9-7483b5769363');\n",
              "          const dataTable =\n",
              "            await google.colab.kernel.invokeFunction('convertToInteractive',\n",
              "                                                     [key], {});\n",
              "          if (!dataTable) return;\n",
              "\n",
              "          const docLinkHtml = 'Like what you see? Visit the ' +\n",
              "            '<a target=\"_blank\" href=https://colab.research.google.com/notebooks/data_table.ipynb>data table notebook</a>'\n",
              "            + ' to learn more about interactive tables.';\n",
              "          element.innerHTML = '';\n",
              "          dataTable['output_type'] = 'display_data';\n",
              "          await google.colab.output.renderOutput(dataTable, element);\n",
              "          const docLink = document.createElement('div');\n",
              "          docLink.innerHTML = docLinkHtml;\n",
              "          element.appendChild(docLink);\n",
              "        }\n",
              "      </script>\n",
              "    </div>\n",
              "  </div>\n",
              "  "
            ]
          },
          "metadata": {},
          "execution_count": 9
        }
      ]
    },
    {
      "cell_type": "code",
      "source": [
        "list(final_data.rideable_type.unique())"
      ],
      "metadata": {
        "colab": {
          "base_uri": "https://localhost:8080/"
        },
        "id": "U7BrLEDWPp5T",
        "outputId": "06902e4e-812f-48b5-fabe-55120ebfe25f"
      },
      "execution_count": null,
      "outputs": [
        {
          "output_type": "execute_result",
          "data": {
            "text/plain": [
              "['classic_bike', 'electric_bike', 'docked_bike']"
            ]
          },
          "metadata": {},
          "execution_count": 10
        }
      ]
    },
    {
      "cell_type": "markdown",
      "source": [
        "# **Data Integrity Check**\n",
        "\n",
        "---\n",
        "\n"
      ],
      "metadata": {
        "id": "OXRhdoOWKyPR"
      }
    },
    {
      "cell_type": "markdown",
      "source": [
        "### **Quality Report Preparation**"
      ],
      "metadata": {
        "id": "bRYa7uKLqRGx"
      }
    },
    {
      "cell_type": "code",
      "source": [
        "# def quality_report(df):\n",
        "#     \"\"\"\n",
        "#         Purpose : to create a report of column wise missing value and unique value counts and datatypes \n",
        "#         Input : Dataframe\n",
        "#         Output : Dataframe with columns names, \n",
        "#         types, no of observations, no of missing rows, No of unique values,\n",
        "#         % of data avaliable, % of data missing and \n",
        "#         \"Average\",\"SD\",\"Minimum Value\",\"25%\",\"50%\",\"75%\",\"Maximum Value\"\n",
        "#         Usage : quality_report(df)\n",
        "\n",
        "#     \"\"\"\n",
        "#     df = df.apply(lambda col: pd.to_datetime(col, errors='ignore') if col.dtypes == object else col,axis=0)\n",
        "#     quality_df = pd.DataFrame()\n",
        "#     quality_df[\"Column Name\"]=df.columns.sort_values()\n",
        "# #     for cols in quality_df[\"Column /Name\"]:\n",
        "# #         quality_df.loc[quality_df[\"Column Name\"]==cols,\"Maximum Characters Occupied\"]=get_length(df,cols)\n",
        "# #         quality_df.loc[quality_df[\"Column Name\"]==cols,\"Minimim Characters Occupied\"]=get_length(df,cols,max_=False)\n",
        "# #     quality_df['Maximum Characters Occupied']=quality_df['Maximum Characters Occupied'].astype(int)\n",
        "# #     quality_df['Minimim Characters Occupied']=quality_df['Minimim Characters Occupied'].astype(int)\n",
        "#     sorted_cols = df.columns.sort_values()\n",
        "#     quality_df[\"Data Type\"] = df[sorted_cols].dtypes.values\n",
        "#     quality_df['Data Type'] = quality_df['Data Type'].apply(lambda x:x.name)\n",
        "#     quality_df['Data Kind'] = quality_df['Data Type'].map({'object':'text','int64':'numeric','float64':'numeric','datetime64[ns]':'datetime'})\n",
        "#     quality_df = quality_df.drop(['Data Type'],axis=1)\n",
        "# #     quality_df[\"Data Type\"] = df[sorted_cols].apply(lambda x:x.name)\n",
        "#     quality_df[\"Total Rows\"]=df[sorted_cols].apply(lambda x:len(x)).values\n",
        "#     quality_df[\"Total Nulls\"] = df[sorted_cols].apply(lambda x:np.sum(pd.isnull(x))).values\n",
        "#     quality_df[\"Total Distinct\"] = df[sorted_cols].apply(lambda x:len(x.unique())).values\n",
        "#     quality_df[\"Data_Avaliable\"] = quality_df[\"Total Rows\"]-quality_df[\"Total Nulls\"]\n",
        "#     quality_df[\"Data Availability(Perc.)\"]=np.round(quality_df[\"Data_Avaliable\"]/quality_df[\"Total Rows\"],2)*100\n",
        "#     quality_df[\"Data Missing(Perc.)\"]=100 - quality_df[\"Data Availability(Perc.)\"]\n",
        "#     summary = df.describe(include='all').T.reset_index()  \n",
        "#     try:\n",
        "#         #summary.columns=[\"Column\",\"count\",\"\",\"Average\",\"SD\",\"Minimum Value\",\"25%\",\"50%\",\"75%\",\"Maximum Value\"]\n",
        "#         summary.rename(columns={\"index\":\"Column Name\",\"min\":\"Minimum Value\",\"max\":\"Maximum Value\",'mean':\"Average\",\"std\":\"Standard Deviation\"},inplace=True)\n",
        "#         summary.drop([\"count\",'unique',\"25%\",\"50%\",\"75%\"],axis=1,inplace=True)\n",
        "#     except Exception as e:\n",
        "#         print(str(e))\n",
        "#         summary.rename(columns={\"index\":\"Column Name\"},inplace=True)\n",
        "#         summary.drop(['count',\"25%\",\"50%\",\"75%\"],axis=1,inplace=True)\n",
        "#         summary[\"Minimum Value\"]=\"-\"\n",
        "#         summary[\"Maximum Value\"]=\"-\"\n",
        "#     quality_df=pd.merge(quality_df,summary,left_on=\"Column Name\",right_on=\"Column Name\",how=\"outer\")\n",
        "#     quality_df = quality_df.fillna(\"-\")\n",
        "#     return quality_df"
      ],
      "metadata": {
        "id": "Ni_RH1hmK3pd"
      },
      "execution_count": null,
      "outputs": []
    },
    {
      "cell_type": "code",
      "source": [
        "# qt_report = quality_report(final_data)"
      ],
      "metadata": {
        "id": "uT9K3XgeKVpv"
      },
      "execution_count": null,
      "outputs": []
    },
    {
      "cell_type": "markdown",
      "source": [
        "### **Saving Quality Report**"
      ],
      "metadata": {
        "id": "T5t6QGF9qWqr"
      }
    },
    {
      "cell_type": "code",
      "source": [
        "# qt_report.to_csv(\"divvy-tripdata_Quality_Report.csv\",index=False)"
      ],
      "metadata": {
        "id": "NZlyXRfVLOYQ"
      },
      "execution_count": null,
      "outputs": []
    },
    {
      "cell_type": "code",
      "source": [
        "# qt_report"
      ],
      "metadata": {
        "id": "S5ra_Lt5MMMl"
      },
      "execution_count": null,
      "outputs": []
    },
    {
      "cell_type": "markdown",
      "source": [
        "# **Data** **Cleaning**\n",
        "\n",
        "---\n",
        "\n"
      ],
      "metadata": {
        "id": "w0A7U62fKOs9"
      }
    },
    {
      "cell_type": "markdown",
      "source": [
        "**Missing Values Imputation**"
      ],
      "metadata": {
        "id": "Etf1avbPIpSH"
      }
    },
    {
      "cell_type": "code",
      "source": [
        "final_data.isnull().sum()"
      ],
      "metadata": {
        "colab": {
          "base_uri": "https://localhost:8080/"
        },
        "id": "9-IYlgE2KBlH",
        "outputId": "ca9f33a3-c9cd-4661-b3e8-6268f1284062"
      },
      "execution_count": null,
      "outputs": [
        {
          "output_type": "execute_result",
          "data": {
            "text/plain": [
              "ride_id                    0\n",
              "rideable_type              0\n",
              "started_at                 0\n",
              "ended_at                   0\n",
              "start_station_name    712978\n",
              "start_station_id      712975\n",
              "end_station_name      761817\n",
              "end_station_id        761817\n",
              "start_lat                  0\n",
              "start_lng                  0\n",
              "end_lat                 4617\n",
              "end_lng                 4617\n",
              "member_casual              0\n",
              "dtype: int64"
            ]
          },
          "metadata": {},
          "execution_count": 15
        }
      ]
    },
    {
      "cell_type": "markdown",
      "source": [
        "▶**Observation**:\n",
        "\n",
        "---\n",
        "\n",
        "\n",
        "* start_staion_name and start_station_id null values are not matching\n",
        "* We can impute the missed station_names by referring theie ID's in rest of the records\n",
        "* We can't impute the location data using mean/median/mode since it's geographical data which doen't make any sesnse\n",
        "* So, we can exclude those records where no geographics information available."
      ],
      "metadata": {
        "id": "NMnvVo-Eep1k"
      }
    },
    {
      "cell_type": "code",
      "source": [
        "missing_columns = final_data.isnull().sum()[final_data.isnull().sum()>0].index\n",
        "list(missing_columns)"
      ],
      "metadata": {
        "id": "YwouHb1FIfB0",
        "colab": {
          "base_uri": "https://localhost:8080/"
        },
        "outputId": "3f5679a9-209e-472b-dbbb-430c4bec3eff"
      },
      "execution_count": null,
      "outputs": [
        {
          "output_type": "execute_result",
          "data": {
            "text/plain": [
              "['start_station_name',\n",
              " 'start_station_id',\n",
              " 'end_station_name',\n",
              " 'end_station_id',\n",
              " 'end_lat',\n",
              " 'end_lng']"
            ]
          },
          "metadata": {},
          "execution_count": 16
        }
      ]
    },
    {
      "cell_type": "code",
      "source": [
        "# Removing the rows where lattitude not present\n",
        "final_data = final_data[~pd.isnull(final_data['end_lat'])]"
      ],
      "metadata": {
        "id": "nvvdMJfcT1wZ"
      },
      "execution_count": null,
      "outputs": []
    },
    {
      "cell_type": "code",
      "source": [
        "final_data.isnull().sum()"
      ],
      "metadata": {
        "colab": {
          "base_uri": "https://localhost:8080/"
        },
        "id": "yTttoasbUAwD",
        "outputId": "5da328db-a31f-4443-cad3-87feef8f1cdc"
      },
      "execution_count": null,
      "outputs": [
        {
          "output_type": "execute_result",
          "data": {
            "text/plain": [
              "ride_id                    0\n",
              "rideable_type              0\n",
              "started_at                 0\n",
              "ended_at                   0\n",
              "start_station_name    712978\n",
              "start_station_id      712975\n",
              "end_station_name      757200\n",
              "end_station_id        757200\n",
              "start_lat                  0\n",
              "start_lng                  0\n",
              "end_lat                    0\n",
              "end_lng                    0\n",
              "member_casual              0\n",
              "dtype: int64"
            ]
          },
          "metadata": {},
          "execution_count": 18
        }
      ]
    },
    {
      "cell_type": "code",
      "source": [
        "# To find if any station names are not there even station id's are there\n",
        "station_ids = list(final_data.loc[(pd.isnull(final_data['start_station_name'])) & (~pd.isnull(final_data['start_station_id'])),'start_station_id'].values)\n",
        "station_ids"
      ],
      "metadata": {
        "colab": {
          "base_uri": "https://localhost:8080/"
        },
        "id": "Cgm6fOWFUKG5",
        "outputId": "40540ca0-4598-42b4-ff97-40796651c2c6"
      },
      "execution_count": null,
      "outputs": [
        {
          "output_type": "execute_result",
          "data": {
            "text/plain": [
              "['13221', '20215', 'WL-008']"
            ]
          },
          "metadata": {},
          "execution_count": 19
        }
      ]
    },
    {
      "cell_type": "code",
      "source": [
        "for ids in station_ids:\n",
        "  station_nm = list(set(final_data[(final_data.start_station_id==ids) & (~pd.isnull(final_data.start_station_name))]['start_station_name'].values))\n",
        "  if len(station_nm)==1:\n",
        "    final_data.loc[(final_data.start_station_id==ids )& (pd.isnull(final_data.start_station_name)),'start_station_name']=station_nm[0]\n",
        "    # final_data.loc[(pd.isnull(final_data['start_station_name'])) & (pd.isnull(final_data['start_station_id'])),'start_station_name']=station_nm\n",
        "    print(f\"station id:{ids} station name:{station_nm[0]} value imputed\")"
      ],
      "metadata": {
        "colab": {
          "base_uri": "https://localhost:8080/"
        },
        "id": "Sq39ZkndVKMD",
        "outputId": "ed2fe6a3-982f-4308-84b2-a2df666475af"
      },
      "execution_count": null,
      "outputs": [
        {
          "output_type": "stream",
          "name": "stdout",
          "text": [
            "station id:13221 station name:Wood St & Milwaukee Ave value imputed\n",
            "station id:20215 station name:Hegewisch Metra Station value imputed\n",
            "station id:WL-008 station name:Clinton St & Roosevelt Rd value imputed\n"
          ]
        }
      ]
    },
    {
      "cell_type": "code",
      "source": [
        "final_data.isnull().sum()"
      ],
      "metadata": {
        "colab": {
          "base_uri": "https://localhost:8080/"
        },
        "id": "lYLg3DX2Xjxf",
        "outputId": "a4010243-0e12-437e-d6f6-78ea444bf446"
      },
      "execution_count": null,
      "outputs": [
        {
          "output_type": "execute_result",
          "data": {
            "text/plain": [
              "ride_id                    0\n",
              "rideable_type              0\n",
              "started_at                 0\n",
              "ended_at                   0\n",
              "start_station_name    712975\n",
              "start_station_id      712975\n",
              "end_station_name      757200\n",
              "end_station_id        757200\n",
              "start_lat                  0\n",
              "start_lng                  0\n",
              "end_lat                    0\n",
              "end_lng                    0\n",
              "member_casual              0\n",
              "dtype: int64"
            ]
          },
          "metadata": {},
          "execution_count": 21
        }
      ]
    },
    {
      "cell_type": "code",
      "source": [
        "final_data.groupby(['start_station_name','start_station_id']).size()\n",
        "#Inconsisten, under one station_id there are many stations available."
      ],
      "metadata": {
        "colab": {
          "base_uri": "https://localhost:8080/"
        },
        "id": "_AhQ2V3wdTEE",
        "outputId": "7af03f3b-4faa-4f83-84cc-8812daba4288"
      },
      "execution_count": null,
      "outputs": [
        {
          "output_type": "execute_result",
          "data": {
            "text/plain": [
              "start_station_name            start_station_id\n",
              "2112 W Peterson Ave           KA1504000155         1029\n",
              "351                           351                     2\n",
              "63rd St Beach                 15491                2105\n",
              "900 W Harrison St             13028                8872\n",
              "Aberdeen St & Jackson Blvd    13157               12216\n",
              "                                                  ...  \n",
              "Woodlawn Ave & 55th St        TA1307000164         8022\n",
              "Woodlawn Ave & 75th St        569                    63\n",
              "Woodlawn Ave & Lake Park Ave  KA1503000065         1837\n",
              "Yates Blvd & 75th St          KA1503000024          203\n",
              "Yates Blvd & 93rd St          20237                 149\n",
              "Length: 855, dtype: int64"
            ]
          },
          "metadata": {},
          "execution_count": 22
        }
      ]
    },
    {
      "cell_type": "code",
      "source": [
        "final_data.groupby(['end_station_name','end_station_id']).size()\n",
        "# inconsistent, under one station_id there are many stations available."
      ],
      "metadata": {
        "colab": {
          "base_uri": "https://localhost:8080/"
        },
        "id": "vvYjsc9Ed-CE",
        "outputId": "b655715a-4abf-4609-f1f7-928726f913f6"
      },
      "execution_count": null,
      "outputs": [
        {
          "output_type": "execute_result",
          "data": {
            "text/plain": [
              "end_station_name              end_station_id\n",
              "2112 W Peterson Ave           KA1504000155       1129\n",
              "63rd St Beach                 15491              2172\n",
              "900 W Harrison St             13028              8860\n",
              "Aberdeen St & Jackson Blvd    13157             11990\n",
              "Aberdeen St & Monroe St       13156             11290\n",
              "                                                ...  \n",
              "Woodlawn Ave & 55th St        TA1307000164       7457\n",
              "Woodlawn Ave & 75th St        569                  63\n",
              "Woodlawn Ave & Lake Park Ave  KA1503000065       1805\n",
              "Yates Blvd & 75th St          KA1503000024        206\n",
              "Yates Blvd & 93rd St          20237               145\n",
              "Length: 856, dtype: int64"
            ]
          },
          "metadata": {},
          "execution_count": 23
        }
      ]
    },
    {
      "cell_type": "markdown",
      "source": [
        "\n",
        "▶**Observations**\n",
        "\n",
        "---\n",
        "\n",
        "\n",
        "* There is clear inconsistency in station_ids and station names\n",
        "* So many stations are fell under stations id's which is strange.\n",
        "* Station Id's are having different length values i.e some are plain alpahbets and some are numeric etc.\n"
      ],
      "metadata": {
        "id": "tp3iQWySfbQN"
      }
    },
    {
      "cell_type": "code",
      "source": [
        "#start_station imputation:\n",
        "for i in ['start','end']:\n",
        "  station_id_mode = final_data[[f'{i}_station_id']].mode().values[0][0]\n",
        "  station_nm = list(set(final_data.loc[final_data[f'{i}_station_id']==station_id_mode,f'{i}_station_name']))\n",
        "  if len(station_nm)==1:\n",
        "    final_data.loc[pd.isnull(final_data[f'{i}_station_id']),f'{i}_station_id']=station_id_mode\n",
        "    final_data.loc[pd.isnull(final_data[f'{i}_station_name']),f'{i}_station_name']=station_nm[0]\n",
        "    print(f'{i}_station_name value imputed with:{station_nm[0]}')\n",
        "# final_data[pd.isnull(final_data['start_station_id'])]\n",
        "# final_data[final_data.start_station_id]"
      ],
      "metadata": {
        "colab": {
          "base_uri": "https://localhost:8080/"
        },
        "id": "VATZUE75eRS6",
        "outputId": "458aafc0-e896-4db0-a340-5e59b8a22dca"
      },
      "execution_count": null,
      "outputs": [
        {
          "output_type": "stream",
          "name": "stdout",
          "text": [
            "start_station_name value imputed with:Streeter Dr & Grand Ave\n",
            "end_station_name value imputed with:Streeter Dr & Grand Ave\n"
          ]
        }
      ]
    },
    {
      "cell_type": "code",
      "source": [
        "## Final Check if any nulls present in any of the columns\n",
        "final_data.isnull().sum()"
      ],
      "metadata": {
        "colab": {
          "base_uri": "https://localhost:8080/"
        },
        "id": "RBoSkCuiiw9D",
        "outputId": "33e183ec-7bde-4f9b-f4d6-cb47dd3d533f"
      },
      "execution_count": null,
      "outputs": [
        {
          "output_type": "execute_result",
          "data": {
            "text/plain": [
              "ride_id               0\n",
              "rideable_type         0\n",
              "started_at            0\n",
              "ended_at              0\n",
              "start_station_name    0\n",
              "start_station_id      0\n",
              "end_station_name      0\n",
              "end_station_id        0\n",
              "start_lat             0\n",
              "start_lng             0\n",
              "end_lat               0\n",
              "end_lng               0\n",
              "member_casual         0\n",
              "dtype: int64"
            ]
          },
          "metadata": {},
          "execution_count": 25
        }
      ]
    },
    {
      "cell_type": "markdown",
      "source": [
        "# **Data Wrangling**"
      ],
      "metadata": {
        "id": "XUJr_zf4dPaW"
      }
    },
    {
      "cell_type": "markdown",
      "source": [
        "### **Data Types Conversion**"
      ],
      "metadata": {
        "id": "FiRfZ1dCqiu8"
      }
    },
    {
      "cell_type": "code",
      "source": [
        "final_data['started_at'] = pd.to_datetime(final_data['started_at'])\n",
        "final_data['ended_at'] = pd.to_datetime(final_data['ended_at'])"
      ],
      "metadata": {
        "id": "CCErZ0_KhSfx"
      },
      "execution_count": null,
      "outputs": []
    },
    {
      "cell_type": "code",
      "source": [
        "final_data.dtypes #Review"
      ],
      "metadata": {
        "colab": {
          "base_uri": "https://localhost:8080/"
        },
        "id": "gL1QuaFmfEDs",
        "outputId": "5ebbd634-8464-476a-8927-0ad7f4344946"
      },
      "execution_count": null,
      "outputs": [
        {
          "output_type": "execute_result",
          "data": {
            "text/plain": [
              "ride_id                       object\n",
              "rideable_type                 object\n",
              "started_at            datetime64[ns]\n",
              "ended_at              datetime64[ns]\n",
              "start_station_name            object\n",
              "start_station_id              object\n",
              "end_station_name              object\n",
              "end_station_id                object\n",
              "start_lat                    float64\n",
              "start_lng                    float64\n",
              "end_lat                      float64\n",
              "end_lng                      float64\n",
              "member_casual                 object\n",
              "dtype: object"
            ]
          },
          "metadata": {},
          "execution_count": 27
        }
      ]
    },
    {
      "cell_type": "markdown",
      "source": [
        "### **Feature Engineering**"
      ],
      "metadata": {
        "id": "DuZTk0KDqnxw"
      }
    },
    {
      "cell_type": "code",
      "source": [
        "final_data['ride_lenght'] = final_data['ended_at']-final_data['started_at']\n",
        "final_data['ride_lenght_in_seconds'] =  final_data['ride_lenght'].apply(lambda x: x.total_seconds())\n",
        "final_data['ride_lenght_in_mins'] = final_data['ride_lenght_in_seconds']/60\n",
        "final_data['ride_lenght_in_hrs'] = final_data['ride_lenght_in_mins']/60"
      ],
      "metadata": {
        "id": "R74GPEdyfF-L"
      },
      "execution_count": null,
      "outputs": []
    },
    {
      "cell_type": "code",
      "source": [
        "final_data.loc[final_data['ride_lenght_in_mins']<0,['started_at','ended_at']].head()"
      ],
      "metadata": {
        "colab": {
          "base_uri": "https://localhost:8080/",
          "height": 206
        },
        "id": "lITlmEVBtDSA",
        "outputId": "440fc677-64c1-4e4d-8e35-9519dcaf9d9a"
      },
      "execution_count": null,
      "outputs": [
        {
          "output_type": "execute_result",
          "data": {
            "text/plain": [
              "                started_at            ended_at\n",
              "39317  2021-03-29 15:41:21 2021-03-29 15:41:20\n",
              "120830 2021-03-13 18:02:58 2021-03-13 18:02:57\n",
              "22361  2021-04-07 16:11:33 2021-04-07 16:11:26\n",
              "31844  2021-04-27 17:13:44 2021-04-27 17:11:32\n",
              "292566 2021-04-23 09:43:39 2021-04-23 09:43:29"
            ],
            "text/html": [
              "\n",
              "  <div id=\"df-d3eab2da-2c58-4b94-9933-2e01c3b99455\">\n",
              "    <div class=\"colab-df-container\">\n",
              "      <div>\n",
              "<style scoped>\n",
              "    .dataframe tbody tr th:only-of-type {\n",
              "        vertical-align: middle;\n",
              "    }\n",
              "\n",
              "    .dataframe tbody tr th {\n",
              "        vertical-align: top;\n",
              "    }\n",
              "\n",
              "    .dataframe thead th {\n",
              "        text-align: right;\n",
              "    }\n",
              "</style>\n",
              "<table border=\"1\" class=\"dataframe\">\n",
              "  <thead>\n",
              "    <tr style=\"text-align: right;\">\n",
              "      <th></th>\n",
              "      <th>started_at</th>\n",
              "      <th>ended_at</th>\n",
              "    </tr>\n",
              "  </thead>\n",
              "  <tbody>\n",
              "    <tr>\n",
              "      <th>39317</th>\n",
              "      <td>2021-03-29 15:41:21</td>\n",
              "      <td>2021-03-29 15:41:20</td>\n",
              "    </tr>\n",
              "    <tr>\n",
              "      <th>120830</th>\n",
              "      <td>2021-03-13 18:02:58</td>\n",
              "      <td>2021-03-13 18:02:57</td>\n",
              "    </tr>\n",
              "    <tr>\n",
              "      <th>22361</th>\n",
              "      <td>2021-04-07 16:11:33</td>\n",
              "      <td>2021-04-07 16:11:26</td>\n",
              "    </tr>\n",
              "    <tr>\n",
              "      <th>31844</th>\n",
              "      <td>2021-04-27 17:13:44</td>\n",
              "      <td>2021-04-27 17:11:32</td>\n",
              "    </tr>\n",
              "    <tr>\n",
              "      <th>292566</th>\n",
              "      <td>2021-04-23 09:43:39</td>\n",
              "      <td>2021-04-23 09:43:29</td>\n",
              "    </tr>\n",
              "  </tbody>\n",
              "</table>\n",
              "</div>\n",
              "      <button class=\"colab-df-convert\" onclick=\"convertToInteractive('df-d3eab2da-2c58-4b94-9933-2e01c3b99455')\"\n",
              "              title=\"Convert this dataframe to an interactive table.\"\n",
              "              style=\"display:none;\">\n",
              "        \n",
              "  <svg xmlns=\"http://www.w3.org/2000/svg\" height=\"24px\"viewBox=\"0 0 24 24\"\n",
              "       width=\"24px\">\n",
              "    <path d=\"M0 0h24v24H0V0z\" fill=\"none\"/>\n",
              "    <path d=\"M18.56 5.44l.94 2.06.94-2.06 2.06-.94-2.06-.94-.94-2.06-.94 2.06-2.06.94zm-11 1L8.5 8.5l.94-2.06 2.06-.94-2.06-.94L8.5 2.5l-.94 2.06-2.06.94zm10 10l.94 2.06.94-2.06 2.06-.94-2.06-.94-.94-2.06-.94 2.06-2.06.94z\"/><path d=\"M17.41 7.96l-1.37-1.37c-.4-.4-.92-.59-1.43-.59-.52 0-1.04.2-1.43.59L10.3 9.45l-7.72 7.72c-.78.78-.78 2.05 0 2.83L4 21.41c.39.39.9.59 1.41.59.51 0 1.02-.2 1.41-.59l7.78-7.78 2.81-2.81c.8-.78.8-2.07 0-2.86zM5.41 20L4 18.59l7.72-7.72 1.47 1.35L5.41 20z\"/>\n",
              "  </svg>\n",
              "      </button>\n",
              "      \n",
              "  <style>\n",
              "    .colab-df-container {\n",
              "      display:flex;\n",
              "      flex-wrap:wrap;\n",
              "      gap: 12px;\n",
              "    }\n",
              "\n",
              "    .colab-df-convert {\n",
              "      background-color: #E8F0FE;\n",
              "      border: none;\n",
              "      border-radius: 50%;\n",
              "      cursor: pointer;\n",
              "      display: none;\n",
              "      fill: #1967D2;\n",
              "      height: 32px;\n",
              "      padding: 0 0 0 0;\n",
              "      width: 32px;\n",
              "    }\n",
              "\n",
              "    .colab-df-convert:hover {\n",
              "      background-color: #E2EBFA;\n",
              "      box-shadow: 0px 1px 2px rgba(60, 64, 67, 0.3), 0px 1px 3px 1px rgba(60, 64, 67, 0.15);\n",
              "      fill: #174EA6;\n",
              "    }\n",
              "\n",
              "    [theme=dark] .colab-df-convert {\n",
              "      background-color: #3B4455;\n",
              "      fill: #D2E3FC;\n",
              "    }\n",
              "\n",
              "    [theme=dark] .colab-df-convert:hover {\n",
              "      background-color: #434B5C;\n",
              "      box-shadow: 0px 1px 3px 1px rgba(0, 0, 0, 0.15);\n",
              "      filter: drop-shadow(0px 1px 2px rgba(0, 0, 0, 0.3));\n",
              "      fill: #FFFFFF;\n",
              "    }\n",
              "  </style>\n",
              "\n",
              "      <script>\n",
              "        const buttonEl =\n",
              "          document.querySelector('#df-d3eab2da-2c58-4b94-9933-2e01c3b99455 button.colab-df-convert');\n",
              "        buttonEl.style.display =\n",
              "          google.colab.kernel.accessAllowed ? 'block' : 'none';\n",
              "\n",
              "        async function convertToInteractive(key) {\n",
              "          const element = document.querySelector('#df-d3eab2da-2c58-4b94-9933-2e01c3b99455');\n",
              "          const dataTable =\n",
              "            await google.colab.kernel.invokeFunction('convertToInteractive',\n",
              "                                                     [key], {});\n",
              "          if (!dataTable) return;\n",
              "\n",
              "          const docLinkHtml = 'Like what you see? Visit the ' +\n",
              "            '<a target=\"_blank\" href=https://colab.research.google.com/notebooks/data_table.ipynb>data table notebook</a>'\n",
              "            + ' to learn more about interactive tables.';\n",
              "          element.innerHTML = '';\n",
              "          dataTable['output_type'] = 'display_data';\n",
              "          await google.colab.output.renderOutput(dataTable, element);\n",
              "          const docLink = document.createElement('div');\n",
              "          docLink.innerHTML = docLinkHtml;\n",
              "          element.appendChild(docLink);\n",
              "        }\n",
              "      </script>\n",
              "    </div>\n",
              "  </div>\n",
              "  "
            ]
          },
          "metadata": {},
          "execution_count": 29
        }
      ]
    },
    {
      "cell_type": "markdown",
      "source": [
        "▶**Observation**\n",
        "\n",
        "---\n",
        "\n",
        "* Start datetime shouldn't be greaterthan ended_datetime\n",
        "* There are around **143** records where entries are incorrect.\n",
        "* We can remove those records since the observations are also negligible compared to entire volume of the data."
      ],
      "metadata": {
        "id": "eSO6Ife1f-tV"
      }
    },
    {
      "cell_type": "code",
      "source": [
        "final_data['ride_lenght_in_mins'].head()#Review"
      ],
      "metadata": {
        "colab": {
          "base_uri": "https://localhost:8080/"
        },
        "id": "ErpRi4vYg-Dt",
        "outputId": "1b635c33-1f17-4915-ad80-8c161f3af191"
      },
      "execution_count": null,
      "outputs": [
        {
          "output_type": "execute_result",
          "data": {
            "text/plain": [
              "0     4.066667\n",
              "1    10.450000\n",
              "2    16.400000\n",
              "3    28.983333\n",
              "4    17.933333\n",
              "Name: ride_lenght_in_mins, dtype: float64"
            ]
          },
          "metadata": {},
          "execution_count": 30
        }
      ]
    },
    {
      "cell_type": "code",
      "source": [
        "final_data['day_of_week'] = final_data['started_at'].apply(lambda x:x.strftime(\"%A\"))#Monday, Tuesday ,...etc.\n",
        "final_data['start_month'] = final_data['started_at'].apply(lambda x:x.strftime(\"%B\"))\n",
        "final_data['start_year'] = final_data['started_at'].apply(lambda x:x.strftime(\"%Y\"))\n",
        "final_data['started_hour'] = final_data.started_at.dt.hour"
      ],
      "metadata": {
        "id": "frMffp1VhKHN"
      },
      "execution_count": null,
      "outputs": []
    },
    {
      "cell_type": "code",
      "source": [
        "final_data[['started_at','started_hour','start_month','day_of_week','start_year','member_casual']].head()#Review"
      ],
      "metadata": {
        "colab": {
          "base_uri": "https://localhost:8080/",
          "height": 206
        },
        "id": "PgYZfkazKgcW",
        "outputId": "06078a1c-6788-4031-c730-1933a69cb746"
      },
      "execution_count": null,
      "outputs": [
        {
          "output_type": "execute_result",
          "data": {
            "text/plain": [
              "           started_at  started_hour start_month day_of_week start_year  \\\n",
              "0 2021-03-16 08:32:30             8       March     Tuesday       2021   \n",
              "1 2021-03-28 01:26:28             1       March      Sunday       2021   \n",
              "2 2021-03-11 21:17:29            21       March    Thursday       2021   \n",
              "3 2021-03-11 13:26:42            13       March    Thursday       2021   \n",
              "4 2021-03-21 09:09:37             9       March      Sunday       2021   \n",
              "\n",
              "  member_casual  \n",
              "0        casual  \n",
              "1        casual  \n",
              "2        casual  \n",
              "3        casual  \n",
              "4        casual  "
            ],
            "text/html": [
              "\n",
              "  <div id=\"df-fc402ee9-a79e-46cb-b833-ad3c3a468fb9\">\n",
              "    <div class=\"colab-df-container\">\n",
              "      <div>\n",
              "<style scoped>\n",
              "    .dataframe tbody tr th:only-of-type {\n",
              "        vertical-align: middle;\n",
              "    }\n",
              "\n",
              "    .dataframe tbody tr th {\n",
              "        vertical-align: top;\n",
              "    }\n",
              "\n",
              "    .dataframe thead th {\n",
              "        text-align: right;\n",
              "    }\n",
              "</style>\n",
              "<table border=\"1\" class=\"dataframe\">\n",
              "  <thead>\n",
              "    <tr style=\"text-align: right;\">\n",
              "      <th></th>\n",
              "      <th>started_at</th>\n",
              "      <th>started_hour</th>\n",
              "      <th>start_month</th>\n",
              "      <th>day_of_week</th>\n",
              "      <th>start_year</th>\n",
              "      <th>member_casual</th>\n",
              "    </tr>\n",
              "  </thead>\n",
              "  <tbody>\n",
              "    <tr>\n",
              "      <th>0</th>\n",
              "      <td>2021-03-16 08:32:30</td>\n",
              "      <td>8</td>\n",
              "      <td>March</td>\n",
              "      <td>Tuesday</td>\n",
              "      <td>2021</td>\n",
              "      <td>casual</td>\n",
              "    </tr>\n",
              "    <tr>\n",
              "      <th>1</th>\n",
              "      <td>2021-03-28 01:26:28</td>\n",
              "      <td>1</td>\n",
              "      <td>March</td>\n",
              "      <td>Sunday</td>\n",
              "      <td>2021</td>\n",
              "      <td>casual</td>\n",
              "    </tr>\n",
              "    <tr>\n",
              "      <th>2</th>\n",
              "      <td>2021-03-11 21:17:29</td>\n",
              "      <td>21</td>\n",
              "      <td>March</td>\n",
              "      <td>Thursday</td>\n",
              "      <td>2021</td>\n",
              "      <td>casual</td>\n",
              "    </tr>\n",
              "    <tr>\n",
              "      <th>3</th>\n",
              "      <td>2021-03-11 13:26:42</td>\n",
              "      <td>13</td>\n",
              "      <td>March</td>\n",
              "      <td>Thursday</td>\n",
              "      <td>2021</td>\n",
              "      <td>casual</td>\n",
              "    </tr>\n",
              "    <tr>\n",
              "      <th>4</th>\n",
              "      <td>2021-03-21 09:09:37</td>\n",
              "      <td>9</td>\n",
              "      <td>March</td>\n",
              "      <td>Sunday</td>\n",
              "      <td>2021</td>\n",
              "      <td>casual</td>\n",
              "    </tr>\n",
              "  </tbody>\n",
              "</table>\n",
              "</div>\n",
              "      <button class=\"colab-df-convert\" onclick=\"convertToInteractive('df-fc402ee9-a79e-46cb-b833-ad3c3a468fb9')\"\n",
              "              title=\"Convert this dataframe to an interactive table.\"\n",
              "              style=\"display:none;\">\n",
              "        \n",
              "  <svg xmlns=\"http://www.w3.org/2000/svg\" height=\"24px\"viewBox=\"0 0 24 24\"\n",
              "       width=\"24px\">\n",
              "    <path d=\"M0 0h24v24H0V0z\" fill=\"none\"/>\n",
              "    <path d=\"M18.56 5.44l.94 2.06.94-2.06 2.06-.94-2.06-.94-.94-2.06-.94 2.06-2.06.94zm-11 1L8.5 8.5l.94-2.06 2.06-.94-2.06-.94L8.5 2.5l-.94 2.06-2.06.94zm10 10l.94 2.06.94-2.06 2.06-.94-2.06-.94-.94-2.06-.94 2.06-2.06.94z\"/><path d=\"M17.41 7.96l-1.37-1.37c-.4-.4-.92-.59-1.43-.59-.52 0-1.04.2-1.43.59L10.3 9.45l-7.72 7.72c-.78.78-.78 2.05 0 2.83L4 21.41c.39.39.9.59 1.41.59.51 0 1.02-.2 1.41-.59l7.78-7.78 2.81-2.81c.8-.78.8-2.07 0-2.86zM5.41 20L4 18.59l7.72-7.72 1.47 1.35L5.41 20z\"/>\n",
              "  </svg>\n",
              "      </button>\n",
              "      \n",
              "  <style>\n",
              "    .colab-df-container {\n",
              "      display:flex;\n",
              "      flex-wrap:wrap;\n",
              "      gap: 12px;\n",
              "    }\n",
              "\n",
              "    .colab-df-convert {\n",
              "      background-color: #E8F0FE;\n",
              "      border: none;\n",
              "      border-radius: 50%;\n",
              "      cursor: pointer;\n",
              "      display: none;\n",
              "      fill: #1967D2;\n",
              "      height: 32px;\n",
              "      padding: 0 0 0 0;\n",
              "      width: 32px;\n",
              "    }\n",
              "\n",
              "    .colab-df-convert:hover {\n",
              "      background-color: #E2EBFA;\n",
              "      box-shadow: 0px 1px 2px rgba(60, 64, 67, 0.3), 0px 1px 3px 1px rgba(60, 64, 67, 0.15);\n",
              "      fill: #174EA6;\n",
              "    }\n",
              "\n",
              "    [theme=dark] .colab-df-convert {\n",
              "      background-color: #3B4455;\n",
              "      fill: #D2E3FC;\n",
              "    }\n",
              "\n",
              "    [theme=dark] .colab-df-convert:hover {\n",
              "      background-color: #434B5C;\n",
              "      box-shadow: 0px 1px 3px 1px rgba(0, 0, 0, 0.15);\n",
              "      filter: drop-shadow(0px 1px 2px rgba(0, 0, 0, 0.3));\n",
              "      fill: #FFFFFF;\n",
              "    }\n",
              "  </style>\n",
              "\n",
              "      <script>\n",
              "        const buttonEl =\n",
              "          document.querySelector('#df-fc402ee9-a79e-46cb-b833-ad3c3a468fb9 button.colab-df-convert');\n",
              "        buttonEl.style.display =\n",
              "          google.colab.kernel.accessAllowed ? 'block' : 'none';\n",
              "\n",
              "        async function convertToInteractive(key) {\n",
              "          const element = document.querySelector('#df-fc402ee9-a79e-46cb-b833-ad3c3a468fb9');\n",
              "          const dataTable =\n",
              "            await google.colab.kernel.invokeFunction('convertToInteractive',\n",
              "                                                     [key], {});\n",
              "          if (!dataTable) return;\n",
              "\n",
              "          const docLinkHtml = 'Like what you see? Visit the ' +\n",
              "            '<a target=\"_blank\" href=https://colab.research.google.com/notebooks/data_table.ipynb>data table notebook</a>'\n",
              "            + ' to learn more about interactive tables.';\n",
              "          element.innerHTML = '';\n",
              "          dataTable['output_type'] = 'display_data';\n",
              "          await google.colab.output.renderOutput(dataTable, element);\n",
              "          const docLink = document.createElement('div');\n",
              "          docLink.innerHTML = docLinkHtml;\n",
              "          element.appendChild(docLink);\n",
              "        }\n",
              "      </script>\n",
              "    </div>\n",
              "  </div>\n",
              "  "
            ]
          },
          "metadata": {},
          "execution_count": 32
        }
      ]
    },
    {
      "cell_type": "code",
      "source": [
        "plt.figure(figsize=(10,5))\n",
        "final_data['day_of_week'].value_counts().plot(kind='bar')#Trend Findings\n",
        "plt.xticks(size=12)\n",
        "plt.xlabel(\"Month\",size=13)\n",
        "plt.ylabel(\"Total Riders\",size=13)\n",
        "plt.show()"
      ],
      "metadata": {
        "colab": {
          "base_uri": "https://localhost:8080/",
          "height": 407
        },
        "id": "PrZWnsHzizA4",
        "outputId": "8dc17c6c-ccc5-4edc-c3ad-7db88ab3d6d5"
      },
      "execution_count": null,
      "outputs": [
        {
          "output_type": "display_data",
          "data": {
            "text/plain": [
              "<Figure size 720x360 with 1 Axes>"
            ],
            "image/png": "[encoded data removed]"
          },
          "metadata": {
            "needs_background": "light"
          }
        }
      ]
    },
    {
      "cell_type": "markdown",
      "source": [
        "▶**Observation**:\n",
        "\n",
        "---\n",
        "\n",
        "\n",
        "\n",
        "* Weekends both saturday and sunday are the most rides has been taken.\n",
        "* Let;s dig down further to see the difference w.r.t membership types (casual and annual members)\n",
        "\n"
      ],
      "metadata": {
        "id": "QPXkoUsreSEI"
      }
    },
    {
      "cell_type": "code",
      "source": [
        "plt.figure(figsize=(10,5))\n",
        "final_data['start_month'].value_counts().plot(kind='bar')# July has highest rides taken\n",
        "plt.xticks(size=12)\n",
        "plt.xlabel(\"Month\",size=13)\n",
        "plt.ylabel(\"Total Riders\",size=13)\n",
        "plt.show()"
      ],
      "metadata": {
        "colab": {
          "base_uri": "https://localhost:8080/",
          "height": 393
        },
        "id": "IiEUDPreLc4v",
        "outputId": "a8019c40-97e6-4cac-e58f-b3ec411a9316"
      },
      "execution_count": null,
      "outputs": [
        {
          "output_type": "display_data",
          "data": {
            "text/plain": [
              "<Figure size 720x360 with 1 Axes>"
            ],
            "image/png": "[encoded data removed]"
          },
          "metadata": {
            "needs_background": "light"
          }
        }
      ]
    },
    {
      "cell_type": "markdown",
      "source": [
        "▶**Observation**:\n",
        "\n",
        "---\n",
        "\n",
        "\n",
        "* July,August and September months are most popular usage months"
      ],
      "metadata": {
        "id": "WHO_XrRJgpUx"
      }
    },
    {
      "cell_type": "code",
      "source": [
        "#Removing all the records where ride length is negative.\n",
        "final_data.loc[final_data['ride_lenght_in_mins']<0,['started_at','ended_at','ride_lenght','ride_lenght_in_mins']].sort_values(['ride_lenght_in_mins'])"
      ],
      "metadata": {
        "colab": {
          "base_uri": "https://localhost:8080/",
          "height": 424
        },
        "id": "bwqHJh4zjXeJ",
        "outputId": "cbca954c-f0f8-4e69-8853-4694215314fb"
      },
      "execution_count": null,
      "outputs": [
        {
          "output_type": "execute_result",
          "data": {
            "text/plain": [
              "                started_at            ended_at       ride_lenght  \\\n",
              "56721  2021-11-07 01:58:08 2021-11-07 01:00:06 -1 days +23:01:58   \n",
              "142091 2021-11-07 01:56:51 2021-11-07 01:00:57 -1 days +23:04:06   \n",
              "125855 2021-11-07 01:54:50 2021-11-07 01:00:45 -1 days +23:05:55   \n",
              "260820 2021-11-07 01:55:42 2021-11-07 01:01:55 -1 days +23:06:13   \n",
              "282673 2021-11-07 01:54:58 2021-11-07 01:01:29 -1 days +23:06:31   \n",
              "...                    ...                 ...               ...   \n",
              "241770 2021-09-29 14:02:52 2021-09-29 14:02:51 -1 days +23:59:59   \n",
              "72856  2021-07-27 19:11:55 2021-07-27 19:11:54 -1 days +23:59:59   \n",
              "133756 2021-07-25 01:38:23 2021-07-25 01:38:22 -1 days +23:59:59   \n",
              "398492 2021-05-20 12:31:53 2021-05-20 12:31:52 -1 days +23:59:59   \n",
              "39317  2021-03-29 15:41:21 2021-03-29 15:41:20 -1 days +23:59:59   \n",
              "\n",
              "        ride_lenght_in_mins  \n",
              "56721            -58.033333  \n",
              "142091           -55.900000  \n",
              "125855           -54.083333  \n",
              "260820           -53.783333  \n",
              "282673           -53.483333  \n",
              "...                     ...  \n",
              "241770            -0.016667  \n",
              "72856             -0.016667  \n",
              "133756            -0.016667  \n",
              "398492            -0.016667  \n",
              "39317             -0.016667  \n",
              "\n",
              "[145 rows x 4 columns]"
            ],
            "text/html": [
              "\n",
              "  <div id=\"df-d08345d7-d915-4bbe-a20a-7b59855f1c98\">\n",
              "    <div class=\"colab-df-container\">\n",
              "      <div>\n",
              "<style scoped>\n",
              "    .dataframe tbody tr th:only-of-type {\n",
              "        vertical-align: middle;\n",
              "    }\n",
              "\n",
              "    .dataframe tbody tr th {\n",
              "        vertical-align: top;\n",
              "    }\n",
              "\n",
              "    .dataframe thead th {\n",
              "        text-align: right;\n",
              "    }\n",
              "</style>\n",
              "<table border=\"1\" class=\"dataframe\">\n",
              "  <thead>\n",
              "    <tr style=\"text-align: right;\">\n",
              "      <th></th>\n",
              "      <th>started_at</th>\n",
              "      <th>ended_at</th>\n",
              "      <th>ride_lenght</th>\n",
              "      <th>ride_lenght_in_mins</th>\n",
              "    </tr>\n",
              "  </thead>\n",
              "  <tbody>\n",
              "    <tr>\n",
              "      <th>56721</th>\n",
              "      <td>2021-11-07 01:58:08</td>\n",
              "      <td>2021-11-07 01:00:06</td>\n",
              "      <td>-1 days +23:01:58</td>\n",
              "      <td>-58.033333</td>\n",
              "    </tr>\n",
              "    <tr>\n",
              "      <th>142091</th>\n",
              "      <td>2021-11-07 01:56:51</td>\n",
              "      <td>2021-11-07 01:00:57</td>\n",
              "      <td>-1 days +23:04:06</td>\n",
              "      <td>-55.900000</td>\n",
              "    </tr>\n",
              "    <tr>\n",
              "      <th>125855</th>\n",
              "      <td>2021-11-07 01:54:50</td>\n",
              "      <td>2021-11-07 01:00:45</td>\n",
              "      <td>-1 days +23:05:55</td>\n",
              "      <td>-54.083333</td>\n",
              "    </tr>\n",
              "    <tr>\n",
              "      <th>260820</th>\n",
              "      <td>2021-11-07 01:55:42</td>\n",
              "      <td>2021-11-07 01:01:55</td>\n",
              "      <td>-1 days +23:06:13</td>\n",
              "      <td>-53.783333</td>\n",
              "    </tr>\n",
              "    <tr>\n",
              "      <th>282673</th>\n",
              "      <td>2021-11-07 01:54:58</td>\n",
              "      <td>2021-11-07 01:01:29</td>\n",
              "      <td>-1 days +23:06:31</td>\n",
              "      <td>-53.483333</td>\n",
              "    </tr>\n",
              "    <tr>\n",
              "      <th>...</th>\n",
              "      <td>...</td>\n",
              "      <td>...</td>\n",
              "      <td>...</td>\n",
              "      <td>...</td>\n",
              "    </tr>\n",
              "    <tr>\n",
              "      <th>241770</th>\n",
              "      <td>2021-09-29 14:02:52</td>\n",
              "      <td>2021-09-29 14:02:51</td>\n",
              "      <td>-1 days +23:59:59</td>\n",
              "      <td>-0.016667</td>\n",
              "    </tr>\n",
              "    <tr>\n",
              "      <th>72856</th>\n",
              "      <td>2021-07-27 19:11:55</td>\n",
              "      <td>2021-07-27 19:11:54</td>\n",
              "      <td>-1 days +23:59:59</td>\n",
              "      <td>-0.016667</td>\n",
              "    </tr>\n",
              "    <tr>\n",
              "      <th>133756</th>\n",
              "      <td>2021-07-25 01:38:23</td>\n",
              "      <td>2021-07-25 01:38:22</td>\n",
              "      <td>-1 days +23:59:59</td>\n",
              "      <td>-0.016667</td>\n",
              "    </tr>\n",
              "    <tr>\n",
              "      <th>398492</th>\n",
              "      <td>2021-05-20 12:31:53</td>\n",
              "      <td>2021-05-20 12:31:52</td>\n",
              "      <td>-1 days +23:59:59</td>\n",
              "      <td>-0.016667</td>\n",
              "    </tr>\n",
              "    <tr>\n",
              "      <th>39317</th>\n",
              "      <td>2021-03-29 15:41:21</td>\n",
              "      <td>2021-03-29 15:41:20</td>\n",
              "      <td>-1 days +23:59:59</td>\n",
              "      <td>-0.016667</td>\n",
              "    </tr>\n",
              "  </tbody>\n",
              "</table>\n",
              "<p>145 rows × 4 columns</p>\n",
              "</div>\n",
              "      <button class=\"colab-df-convert\" onclick=\"convertToInteractive('df-d08345d7-d915-4bbe-a20a-7b59855f1c98')\"\n",
              "              title=\"Convert this dataframe to an interactive table.\"\n",
              "              style=\"display:none;\">\n",
              "        \n",
              "  <svg xmlns=\"http://www.w3.org/2000/svg\" height=\"24px\"viewBox=\"0 0 24 24\"\n",
              "       width=\"24px\">\n",
              "    <path d=\"M0 0h24v24H0V0z\" fill=\"none\"/>\n",
              "    <path d=\"M18.56 5.44l.94 2.06.94-2.06 2.06-.94-2.06-.94-.94-2.06-.94 2.06-2.06.94zm-11 1L8.5 8.5l.94-2.06 2.06-.94-2.06-.94L8.5 2.5l-.94 2.06-2.06.94zm10 10l.94 2.06.94-2.06 2.06-.94-2.06-.94-.94-2.06-.94 2.06-2.06.94z\"/><path d=\"M17.41 7.96l-1.37-1.37c-.4-.4-.92-.59-1.43-.59-.52 0-1.04.2-1.43.59L10.3 9.45l-7.72 7.72c-.78.78-.78 2.05 0 2.83L4 21.41c.39.39.9.59 1.41.59.51 0 1.02-.2 1.41-.59l7.78-7.78 2.81-2.81c.8-.78.8-2.07 0-2.86zM5.41 20L4 18.59l7.72-7.72 1.47 1.35L5.41 20z\"/>\n",
              "  </svg>\n",
              "      </button>\n",
              "      \n",
              "  <style>\n",
              "    .colab-df-container {\n",
              "      display:flex;\n",
              "      flex-wrap:wrap;\n",
              "      gap: 12px;\n",
              "    }\n",
              "\n",
              "    .colab-df-convert {\n",
              "      background-color: #E8F0FE;\n",
              "      border: none;\n",
              "      border-radius: 50%;\n",
              "      cursor: pointer;\n",
              "      display: none;\n",
              "      fill: #1967D2;\n",
              "      height: 32px;\n",
              "      padding: 0 0 0 0;\n",
              "      width: 32px;\n",
              "    }\n",
              "\n",
              "    .colab-df-convert:hover {\n",
              "      background-color: #E2EBFA;\n",
              "      box-shadow: 0px 1px 2px rgba(60, 64, 67, 0.3), 0px 1px 3px 1px rgba(60, 64, 67, 0.15);\n",
              "      fill: #174EA6;\n",
              "    }\n",
              "\n",
              "    [theme=dark] .colab-df-convert {\n",
              "      background-color: #3B4455;\n",
              "      fill: #D2E3FC;\n",
              "    }\n",
              "\n",
              "    [theme=dark] .colab-df-convert:hover {\n",
              "      background-color: #434B5C;\n",
              "      box-shadow: 0px 1px 3px 1px rgba(0, 0, 0, 0.15);\n",
              "      filter: drop-shadow(0px 1px 2px rgba(0, 0, 0, 0.3));\n",
              "      fill: #FFFFFF;\n",
              "    }\n",
              "  </style>\n",
              "\n",
              "      <script>\n",
              "        const buttonEl =\n",
              "          document.querySelector('#df-d08345d7-d915-4bbe-a20a-7b59855f1c98 button.colab-df-convert');\n",
              "        buttonEl.style.display =\n",
              "          google.colab.kernel.accessAllowed ? 'block' : 'none';\n",
              "\n",
              "        async function convertToInteractive(key) {\n",
              "          const element = document.querySelector('#df-d08345d7-d915-4bbe-a20a-7b59855f1c98');\n",
              "          const dataTable =\n",
              "            await google.colab.kernel.invokeFunction('convertToInteractive',\n",
              "                                                     [key], {});\n",
              "          if (!dataTable) return;\n",
              "\n",
              "          const docLinkHtml = 'Like what you see? Visit the ' +\n",
              "            '<a target=\"_blank\" href=https://colab.research.google.com/notebooks/data_table.ipynb>data table notebook</a>'\n",
              "            + ' to learn more about interactive tables.';\n",
              "          element.innerHTML = '';\n",
              "          dataTable['output_type'] = 'display_data';\n",
              "          await google.colab.output.renderOutput(dataTable, element);\n",
              "          const docLink = document.createElement('div');\n",
              "          docLink.innerHTML = docLinkHtml;\n",
              "          element.appendChild(docLink);\n",
              "        }\n",
              "      </script>\n",
              "    </div>\n",
              "  </div>\n",
              "  "
            ]
          },
          "metadata": {},
          "execution_count": 35
        }
      ]
    },
    {
      "cell_type": "code",
      "source": [
        "final_data = final_data.loc[final_data['ride_lenght_in_mins']>0,]"
      ],
      "metadata": {
        "id": "yseV-Yi4kpg_"
      },
      "execution_count": null,
      "outputs": []
    },
    {
      "cell_type": "markdown",
      "source": [
        "# **Aggregations**"
      ],
      "metadata": {
        "id": "vSzIgwxQmuw5"
      }
    },
    {
      "cell_type": "markdown",
      "source": [
        "### **Descriptive Analysis**"
      ],
      "metadata": {
        "id": "wkN3uDimqyjg"
      }
    },
    {
      "cell_type": "code",
      "source": [
        "# Calculate the mean of ride_length\n",
        "# Calculate the max ride_length\n",
        "# Calculate the mode of day_of_week\n",
        "\n",
        "print(\"Average of ride_length(Mins)\",round(final_data['ride_lenght_in_mins'].mean(),2))\n",
        "print(\"Min of ride_length(Mins)\",round(final_data['ride_lenght_in_mins'].min(),2))\n",
        "print(\"Max of ride_length(hrs)\",round(final_data['ride_lenght_in_hrs'].max(),2))"
      ],
      "metadata": {
        "colab": {
          "base_uri": "https://localhost:8080/"
        },
        "id": "Xt9J8IRwjRw5",
        "outputId": "fc864c2e-a77e-43b8-a9ba-3137279146c8"
      },
      "execution_count": null,
      "outputs": [
        {
          "output_type": "stream",
          "name": "stdout",
          "text": [
            "Average of ride_length(Mins) 20.79\n",
            "Min of ride_length(Mins) 0.02\n",
            "Max of ride_length(hrs) 932.4\n"
          ]
        }
      ]
    },
    {
      "cell_type": "markdown",
      "source": [
        "**Observation**:\n",
        "\n",
        "---\n",
        "\n",
        "\n",
        "* **~932 Hours.** or **1 Month 8 Day(s)** being used which is looks like an outlier"
      ],
      "metadata": {
        "id": "GCu3F_C4kceN"
      }
    },
    {
      "cell_type": "code",
      "source": [
        ""
      ],
      "metadata": {
        "id": "2WdLid4DjJy8"
      },
      "execution_count": null,
      "outputs": []
    },
    {
      "cell_type": "code",
      "source": [
        "final_data[['ride_lenght_in_hrs']].describe()"
      ],
      "metadata": {
        "colab": {
          "base_uri": "https://localhost:8080/",
          "height": 300
        },
        "id": "NhD2vfzFjbZy",
        "outputId": "035051f0-a377-424e-da05-af9f26168048"
      },
      "execution_count": null,
      "outputs": [
        {
          "output_type": "execute_result",
          "data": {
            "text/plain": [
              "       ride_lenght_in_hrs\n",
              "count        5.662716e+06\n",
              "mean         3.465719e-01\n",
              "std          2.772635e+00\n",
              "min          2.777778e-04\n",
              "25%          1.111111e-01\n",
              "50%          1.975000e-01\n",
              "75%          3.588889e-01\n",
              "max          9.324025e+02"
            ],
            "text/html": [
              "\n",
              "  <div id=\"df-c6585fa4-1295-42a3-915f-393fa03c53ad\">\n",
              "    <div class=\"colab-df-container\">\n",
              "      <div>\n",
              "<style scoped>\n",
              "    .dataframe tbody tr th:only-of-type {\n",
              "        vertical-align: middle;\n",
              "    }\n",
              "\n",
              "    .dataframe tbody tr th {\n",
              "        vertical-align: top;\n",
              "    }\n",
              "\n",
              "    .dataframe thead th {\n",
              "        text-align: right;\n",
              "    }\n",
              "</style>\n",
              "<table border=\"1\" class=\"dataframe\">\n",
              "  <thead>\n",
              "    <tr style=\"text-align: right;\">\n",
              "      <th></th>\n",
              "      <th>ride_lenght_in_hrs</th>\n",
              "    </tr>\n",
              "  </thead>\n",
              "  <tbody>\n",
              "    <tr>\n",
              "      <th>count</th>\n",
              "      <td>5.662716e+06</td>\n",
              "    </tr>\n",
              "    <tr>\n",
              "      <th>mean</th>\n",
              "      <td>3.465719e-01</td>\n",
              "    </tr>\n",
              "    <tr>\n",
              "      <th>std</th>\n",
              "      <td>2.772635e+00</td>\n",
              "    </tr>\n",
              "    <tr>\n",
              "      <th>min</th>\n",
              "      <td>2.777778e-04</td>\n",
              "    </tr>\n",
              "    <tr>\n",
              "      <th>25%</th>\n",
              "      <td>1.111111e-01</td>\n",
              "    </tr>\n",
              "    <tr>\n",
              "      <th>50%</th>\n",
              "      <td>1.975000e-01</td>\n",
              "    </tr>\n",
              "    <tr>\n",
              "      <th>75%</th>\n",
              "      <td>3.588889e-01</td>\n",
              "    </tr>\n",
              "    <tr>\n",
              "      <th>max</th>\n",
              "      <td>9.324025e+02</td>\n",
              "    </tr>\n",
              "  </tbody>\n",
              "</table>\n",
              "</div>\n",
              "      <button class=\"colab-df-convert\" onclick=\"convertToInteractive('df-c6585fa4-1295-42a3-915f-393fa03c53ad')\"\n",
              "              title=\"Convert this dataframe to an interactive table.\"\n",
              "              style=\"display:none;\">\n",
              "        \n",
              "  <svg xmlns=\"http://www.w3.org/2000/svg\" height=\"24px\"viewBox=\"0 0 24 24\"\n",
              "       width=\"24px\">\n",
              "    <path d=\"M0 0h24v24H0V0z\" fill=\"none\"/>\n",
              "    <path d=\"M18.56 5.44l.94 2.06.94-2.06 2.06-.94-2.06-.94-.94-2.06-.94 2.06-2.06.94zm-11 1L8.5 8.5l.94-2.06 2.06-.94-2.06-.94L8.5 2.5l-.94 2.06-2.06.94zm10 10l.94 2.06.94-2.06 2.06-.94-2.06-.94-.94-2.06-.94 2.06-2.06.94z\"/><path d=\"M17.41 7.96l-1.37-1.37c-.4-.4-.92-.59-1.43-.59-.52 0-1.04.2-1.43.59L10.3 9.45l-7.72 7.72c-.78.78-.78 2.05 0 2.83L4 21.41c.39.39.9.59 1.41.59.51 0 1.02-.2 1.41-.59l7.78-7.78 2.81-2.81c.8-.78.8-2.07 0-2.86zM5.41 20L4 18.59l7.72-7.72 1.47 1.35L5.41 20z\"/>\n",
              "  </svg>\n",
              "      </button>\n",
              "      \n",
              "  <style>\n",
              "    .colab-df-container {\n",
              "      display:flex;\n",
              "      flex-wrap:wrap;\n",
              "      gap: 12px;\n",
              "    }\n",
              "\n",
              "    .colab-df-convert {\n",
              "      background-color: #E8F0FE;\n",
              "      border: none;\n",
              "      border-radius: 50%;\n",
              "      cursor: pointer;\n",
              "      display: none;\n",
              "      fill: #1967D2;\n",
              "      height: 32px;\n",
              "      padding: 0 0 0 0;\n",
              "      width: 32px;\n",
              "    }\n",
              "\n",
              "    .colab-df-convert:hover {\n",
              "      background-color: #E2EBFA;\n",
              "      box-shadow: 0px 1px 2px rgba(60, 64, 67, 0.3), 0px 1px 3px 1px rgba(60, 64, 67, 0.15);\n",
              "      fill: #174EA6;\n",
              "    }\n",
              "\n",
              "    [theme=dark] .colab-df-convert {\n",
              "      background-color: #3B4455;\n",
              "      fill: #D2E3FC;\n",
              "    }\n",
              "\n",
              "    [theme=dark] .colab-df-convert:hover {\n",
              "      background-color: #434B5C;\n",
              "      box-shadow: 0px 1px 3px 1px rgba(0, 0, 0, 0.15);\n",
              "      filter: drop-shadow(0px 1px 2px rgba(0, 0, 0, 0.3));\n",
              "      fill: #FFFFFF;\n",
              "    }\n",
              "  </style>\n",
              "\n",
              "      <script>\n",
              "        const buttonEl =\n",
              "          document.querySelector('#df-c6585fa4-1295-42a3-915f-393fa03c53ad button.colab-df-convert');\n",
              "        buttonEl.style.display =\n",
              "          google.colab.kernel.accessAllowed ? 'block' : 'none';\n",
              "\n",
              "        async function convertToInteractive(key) {\n",
              "          const element = document.querySelector('#df-c6585fa4-1295-42a3-915f-393fa03c53ad');\n",
              "          const dataTable =\n",
              "            await google.colab.kernel.invokeFunction('convertToInteractive',\n",
              "                                                     [key], {});\n",
              "          if (!dataTable) return;\n",
              "\n",
              "          const docLinkHtml = 'Like what you see? Visit the ' +\n",
              "            '<a target=\"_blank\" href=https://colab.research.google.com/notebooks/data_table.ipynb>data table notebook</a>'\n",
              "            + ' to learn more about interactive tables.';\n",
              "          element.innerHTML = '';\n",
              "          dataTable['output_type'] = 'display_data';\n",
              "          await google.colab.output.renderOutput(dataTable, element);\n",
              "          const docLink = document.createElement('div');\n",
              "          docLink.innerHTML = docLinkHtml;\n",
              "          element.appendChild(docLink);\n",
              "        }\n",
              "      </script>\n",
              "    </div>\n",
              "  </div>\n",
              "  "
            ]
          },
          "metadata": {},
          "execution_count": 38
        }
      ]
    },
    {
      "cell_type": "code",
      "source": [
        "final_data[['ride_lenght_in_mins']].plot.box()\n",
        "# final_data.loc[final_data['ride_lenght_in_hrs']<1,['ride_lenght_in_hrs']].plot.box()\n",
        "plt.show()\n",
        "# final_data[['ride_lenght_in_hrs']].plot.box()"
      ],
      "metadata": {
        "colab": {
          "base_uri": "https://localhost:8080/",
          "height": 266
        },
        "id": "_uqnGSJihUNd",
        "outputId": "4f9e2f83-c71b-4a76-cb7a-9c54cfd86f9d"
      },
      "execution_count": null,
      "outputs": [
        {
          "output_type": "display_data",
          "data": {
            "text/plain": [
              "<Figure size 432x288 with 1 Axes>"
            ],
            "image/png": "[encoded data removed]"
          },
          "metadata": {
            "needs_background": "light"
          }
        }
      ]
    },
    {
      "cell_type": "markdown",
      "source": [
        "Observations:\n",
        "* The above box plot showing that many observations are outliers or suspected values.\n",
        "* Need to look into futher."
      ],
      "metadata": {
        "id": "UqtMOPnBlAd7"
      }
    },
    {
      "cell_type": "code",
      "source": [
        "round(final_data.loc[(final_data['ride_lenght_in_hrs']>2),].shape[0]/final_data.shape[0]*100,2)"
      ],
      "metadata": {
        "colab": {
          "base_uri": "https://localhost:8080/"
        },
        "id": "I_99dnMVlODK",
        "outputId": "42ec7470-1e95-44b1-aa8a-d96cc650af26"
      },
      "execution_count": null,
      "outputs": [
        {
          "output_type": "execute_result",
          "data": {
            "text/plain": [
              "1.1"
            ]
          },
          "metadata": {},
          "execution_count": 40
        }
      ]
    },
    {
      "cell_type": "code",
      "source": [
        "final_data = final_data[final_data['ride_lenght_in_hrs']<2]"
      ],
      "metadata": {
        "id": "jH_tvYfCmcLe"
      },
      "execution_count": null,
      "outputs": []
    },
    {
      "cell_type": "markdown",
      "source": [
        "Observations:\n",
        "* Aournd **99.99%** of the users are using the service less than 2 Hours.\n",
        "* So discarding those records which travelled greater than **2hrs** as treating them as outliers. Let's tream them sepereately\n",
        "\n"
      ],
      "metadata": {
        "id": "g-YYHJ5CmkPG"
      }
    },
    {
      "cell_type": "code",
      "source": [
        "# final_data[final_data['ride_lenght_in_hrs']>240]"
      ],
      "metadata": {
        "id": "B-AMOH0qiXmv"
      },
      "execution_count": null,
      "outputs": []
    },
    {
      "cell_type": "markdown",
      "source": [
        "### **Data Wranglings**"
      ],
      "metadata": {
        "id": "ZiCjMXZ4q2ER"
      }
    },
    {
      "cell_type": "code",
      "source": [
        "final_data.member_casual.value_counts(normalize=True)"
      ],
      "metadata": {
        "colab": {
          "base_uri": "https://localhost:8080/"
        },
        "id": "i67EWOc6GyH4",
        "outputId": "419577c8-9af8-466e-e5b4-8a47bbdc8a4e"
      },
      "execution_count": null,
      "outputs": [
        {
          "output_type": "execute_result",
          "data": {
            "text/plain": [
              "member    0.557055\n",
              "casual    0.442945\n",
              "Name: member_casual, dtype: float64"
            ]
          },
          "metadata": {},
          "execution_count": 43
        }
      ]
    },
    {
      "cell_type": "code",
      "source": [
        "final_data.member_casual.value_counts().plot(kind='bar',width=0.2)\n",
        "plt.xlabel(\"Type\",size=12)\n",
        "plt.xticks(size=15)\n",
        "plt.yticks(size=12)\n",
        "plt.title(\"Riders Membership Distribution\",size=15)\n",
        "plt.show()"
      ],
      "metadata": {
        "colab": {
          "base_uri": "https://localhost:8080/",
          "height": 354
        },
        "id": "w-rQs3WiFTFe",
        "outputId": "fa981608-5bf5-4140-f659-227b0c223762"
      },
      "execution_count": null,
      "outputs": [
        {
          "output_type": "display_data",
          "data": {
            "text/plain": [
              "<Figure size 432x288 with 1 Axes>"
            ],
            "image/png": "[encoded data removed]"
          },
          "metadata": {
            "needs_background": "light"
          }
        }
      ]
    },
    {
      "cell_type": "markdown",
      "source": [
        "**Observations**:\n",
        "\n",
        "---\n",
        "\n",
        "\n",
        "* **55.70%** of the customers are opted for Annual Memebership plan.\n",
        "* **44.29%** of the customers are not opted for *Annual Memebership plan* i.e still they are *causal memebers*."
      ],
      "metadata": {
        "id": "Pd8xO_A_oBOu"
      }
    },
    {
      "cell_type": "code",
      "source": [
        "# Calculate the average ride_length for members and casual riders\n",
        "final_data.groupby(['member_casual']).agg({'ride_lenght_in_mins':['mean','min','max']})#.plot(kind='bar')"
      ],
      "metadata": {
        "colab": {
          "base_uri": "https://localhost:8080/",
          "height": 175
        },
        "id": "DI-PfJkYlijQ",
        "outputId": "ece27e0f-d68a-4880-f87e-71f43210823f"
      },
      "execution_count": null,
      "outputs": [
        {
          "output_type": "execute_result",
          "data": {
            "text/plain": [
              "              ride_lenght_in_mins                      \n",
              "                             mean       min         max\n",
              "member_casual                                          \n",
              "casual                  22.239646  0.016667  119.983333\n",
              "member                  12.674758  0.016667  119.983333"
            ],
            "text/html": [
              "\n",
              "  <div id=\"df-cd3bfbba-3249-4c16-8930-c0088c66bc71\">\n",
              "    <div class=\"colab-df-container\">\n",
              "      <div>\n",
              "<style scoped>\n",
              "    .dataframe tbody tr th:only-of-type {\n",
              "        vertical-align: middle;\n",
              "    }\n",
              "\n",
              "    .dataframe tbody tr th {\n",
              "        vertical-align: top;\n",
              "    }\n",
              "\n",
              "    .dataframe thead tr th {\n",
              "        text-align: left;\n",
              "    }\n",
              "\n",
              "    .dataframe thead tr:last-of-type th {\n",
              "        text-align: right;\n",
              "    }\n",
              "</style>\n",
              "<table border=\"1\" class=\"dataframe\">\n",
              "  <thead>\n",
              "    <tr>\n",
              "      <th></th>\n",
              "      <th colspan=\"3\" halign=\"left\">ride_lenght_in_mins</th>\n",
              "    </tr>\n",
              "    <tr>\n",
              "      <th></th>\n",
              "      <th>mean</th>\n",
              "      <th>min</th>\n",
              "      <th>max</th>\n",
              "    </tr>\n",
              "    <tr>\n",
              "      <th>member_casual</th>\n",
              "      <th></th>\n",
              "      <th></th>\n",
              "      <th></th>\n",
              "    </tr>\n",
              "  </thead>\n",
              "  <tbody>\n",
              "    <tr>\n",
              "      <th>casual</th>\n",
              "      <td>22.239646</td>\n",
              "      <td>0.016667</td>\n",
              "      <td>119.983333</td>\n",
              "    </tr>\n",
              "    <tr>\n",
              "      <th>member</th>\n",
              "      <td>12.674758</td>\n",
              "      <td>0.016667</td>\n",
              "      <td>119.983333</td>\n",
              "    </tr>\n",
              "  </tbody>\n",
              "</table>\n",
              "</div>\n",
              "      <button class=\"colab-df-convert\" onclick=\"convertToInteractive('df-cd3bfbba-3249-4c16-8930-c0088c66bc71')\"\n",
              "              title=\"Convert this dataframe to an interactive table.\"\n",
              "              style=\"display:none;\">\n",
              "        \n",
              "  <svg xmlns=\"http://www.w3.org/2000/svg\" height=\"24px\"viewBox=\"0 0 24 24\"\n",
              "       width=\"24px\">\n",
              "    <path d=\"M0 0h24v24H0V0z\" fill=\"none\"/>\n",
              "    <path d=\"M18.56 5.44l.94 2.06.94-2.06 2.06-.94-2.06-.94-.94-2.06-.94 2.06-2.06.94zm-11 1L8.5 8.5l.94-2.06 2.06-.94-2.06-.94L8.5 2.5l-.94 2.06-2.06.94zm10 10l.94 2.06.94-2.06 2.06-.94-2.06-.94-.94-2.06-.94 2.06-2.06.94z\"/><path d=\"M17.41 7.96l-1.37-1.37c-.4-.4-.92-.59-1.43-.59-.52 0-1.04.2-1.43.59L10.3 9.45l-7.72 7.72c-.78.78-.78 2.05 0 2.83L4 21.41c.39.39.9.59 1.41.59.51 0 1.02-.2 1.41-.59l7.78-7.78 2.81-2.81c.8-.78.8-2.07 0-2.86zM5.41 20L4 18.59l7.72-7.72 1.47 1.35L5.41 20z\"/>\n",
              "  </svg>\n",
              "      </button>\n",
              "      \n",
              "  <style>\n",
              "    .colab-df-container {\n",
              "      display:flex;\n",
              "      flex-wrap:wrap;\n",
              "      gap: 12px;\n",
              "    }\n",
              "\n",
              "    .colab-df-convert {\n",
              "      background-color: #E8F0FE;\n",
              "      border: none;\n",
              "      border-radius: 50%;\n",
              "      cursor: pointer;\n",
              "      display: none;\n",
              "      fill: #1967D2;\n",
              "      height: 32px;\n",
              "      padding: 0 0 0 0;\n",
              "      width: 32px;\n",
              "    }\n",
              "\n",
              "    .colab-df-convert:hover {\n",
              "      background-color: #E2EBFA;\n",
              "      box-shadow: 0px 1px 2px rgba(60, 64, 67, 0.3), 0px 1px 3px 1px rgba(60, 64, 67, 0.15);\n",
              "      fill: #174EA6;\n",
              "    }\n",
              "\n",
              "    [theme=dark] .colab-df-convert {\n",
              "      background-color: #3B4455;\n",
              "      fill: #D2E3FC;\n",
              "    }\n",
              "\n",
              "    [theme=dark] .colab-df-convert:hover {\n",
              "      background-color: #434B5C;\n",
              "      box-shadow: 0px 1px 3px 1px rgba(0, 0, 0, 0.15);\n",
              "      filter: drop-shadow(0px 1px 2px rgba(0, 0, 0, 0.3));\n",
              "      fill: #FFFFFF;\n",
              "    }\n",
              "  </style>\n",
              "\n",
              "      <script>\n",
              "        const buttonEl =\n",
              "          document.querySelector('#df-cd3bfbba-3249-4c16-8930-c0088c66bc71 button.colab-df-convert');\n",
              "        buttonEl.style.display =\n",
              "          google.colab.kernel.accessAllowed ? 'block' : 'none';\n",
              "\n",
              "        async function convertToInteractive(key) {\n",
              "          const element = document.querySelector('#df-cd3bfbba-3249-4c16-8930-c0088c66bc71');\n",
              "          const dataTable =\n",
              "            await google.colab.kernel.invokeFunction('convertToInteractive',\n",
              "                                                     [key], {});\n",
              "          if (!dataTable) return;\n",
              "\n",
              "          const docLinkHtml = 'Like what you see? Visit the ' +\n",
              "            '<a target=\"_blank\" href=https://colab.research.google.com/notebooks/data_table.ipynb>data table notebook</a>'\n",
              "            + ' to learn more about interactive tables.';\n",
              "          element.innerHTML = '';\n",
              "          dataTable['output_type'] = 'display_data';\n",
              "          await google.colab.output.renderOutput(dataTable, element);\n",
              "          const docLink = document.createElement('div');\n",
              "          docLink.innerHTML = docLinkHtml;\n",
              "          element.appendChild(docLink);\n",
              "        }\n",
              "      </script>\n",
              "    </div>\n",
              "  </div>\n",
              "  "
            ]
          },
          "metadata": {},
          "execution_count": 45
        }
      ]
    },
    {
      "cell_type": "code",
      "source": [
        "final_data.pivot_table(index='member_casual', values='ride_lenght_in_mins',aggfunc=np.mean)"
      ],
      "metadata": {
        "colab": {
          "base_uri": "https://localhost:8080/",
          "height": 143
        },
        "id": "44FxQyJNomEn",
        "outputId": "30264fce-6761-4c54-a6b6-ea24a5fc8788"
      },
      "execution_count": null,
      "outputs": [
        {
          "output_type": "execute_result",
          "data": {
            "text/plain": [
              "               ride_lenght_in_mins\n",
              "member_casual                     \n",
              "casual                   22.239646\n",
              "member                   12.674758"
            ],
            "text/html": [
              "\n",
              "  <div id=\"df-308228d1-9dec-4b61-840e-5b4dbc79f5dd\">\n",
              "    <div class=\"colab-df-container\">\n",
              "      <div>\n",
              "<style scoped>\n",
              "    .dataframe tbody tr th:only-of-type {\n",
              "        vertical-align: middle;\n",
              "    }\n",
              "\n",
              "    .dataframe tbody tr th {\n",
              "        vertical-align: top;\n",
              "    }\n",
              "\n",
              "    .dataframe thead th {\n",
              "        text-align: right;\n",
              "    }\n",
              "</style>\n",
              "<table border=\"1\" class=\"dataframe\">\n",
              "  <thead>\n",
              "    <tr style=\"text-align: right;\">\n",
              "      <th></th>\n",
              "      <th>ride_lenght_in_mins</th>\n",
              "    </tr>\n",
              "    <tr>\n",
              "      <th>member_casual</th>\n",
              "      <th></th>\n",
              "    </tr>\n",
              "  </thead>\n",
              "  <tbody>\n",
              "    <tr>\n",
              "      <th>casual</th>\n",
              "      <td>22.239646</td>\n",
              "    </tr>\n",
              "    <tr>\n",
              "      <th>member</th>\n",
              "      <td>12.674758</td>\n",
              "    </tr>\n",
              "  </tbody>\n",
              "</table>\n",
              "</div>\n",
              "      <button class=\"colab-df-convert\" onclick=\"convertToInteractive('df-308228d1-9dec-4b61-840e-5b4dbc79f5dd')\"\n",
              "              title=\"Convert this dataframe to an interactive table.\"\n",
              "              style=\"display:none;\">\n",
              "        \n",
              "  <svg xmlns=\"http://www.w3.org/2000/svg\" height=\"24px\"viewBox=\"0 0 24 24\"\n",
              "       width=\"24px\">\n",
              "    <path d=\"M0 0h24v24H0V0z\" fill=\"none\"/>\n",
              "    <path d=\"M18.56 5.44l.94 2.06.94-2.06 2.06-.94-2.06-.94-.94-2.06-.94 2.06-2.06.94zm-11 1L8.5 8.5l.94-2.06 2.06-.94-2.06-.94L8.5 2.5l-.94 2.06-2.06.94zm10 10l.94 2.06.94-2.06 2.06-.94-2.06-.94-.94-2.06-.94 2.06-2.06.94z\"/><path d=\"M17.41 7.96l-1.37-1.37c-.4-.4-.92-.59-1.43-.59-.52 0-1.04.2-1.43.59L10.3 9.45l-7.72 7.72c-.78.78-.78 2.05 0 2.83L4 21.41c.39.39.9.59 1.41.59.51 0 1.02-.2 1.41-.59l7.78-7.78 2.81-2.81c.8-.78.8-2.07 0-2.86zM5.41 20L4 18.59l7.72-7.72 1.47 1.35L5.41 20z\"/>\n",
              "  </svg>\n",
              "      </button>\n",
              "      \n",
              "  <style>\n",
              "    .colab-df-container {\n",
              "      display:flex;\n",
              "      flex-wrap:wrap;\n",
              "      gap: 12px;\n",
              "    }\n",
              "\n",
              "    .colab-df-convert {\n",
              "      background-color: #E8F0FE;\n",
              "      border: none;\n",
              "      border-radius: 50%;\n",
              "      cursor: pointer;\n",
              "      display: none;\n",
              "      fill: #1967D2;\n",
              "      height: 32px;\n",
              "      padding: 0 0 0 0;\n",
              "      width: 32px;\n",
              "    }\n",
              "\n",
              "    .colab-df-convert:hover {\n",
              "      background-color: #E2EBFA;\n",
              "      box-shadow: 0px 1px 2px rgba(60, 64, 67, 0.3), 0px 1px 3px 1px rgba(60, 64, 67, 0.15);\n",
              "      fill: #174EA6;\n",
              "    }\n",
              "\n",
              "    [theme=dark] .colab-df-convert {\n",
              "      background-color: #3B4455;\n",
              "      fill: #D2E3FC;\n",
              "    }\n",
              "\n",
              "    [theme=dark] .colab-df-convert:hover {\n",
              "      background-color: #434B5C;\n",
              "      box-shadow: 0px 1px 3px 1px rgba(0, 0, 0, 0.15);\n",
              "      filter: drop-shadow(0px 1px 2px rgba(0, 0, 0, 0.3));\n",
              "      fill: #FFFFFF;\n",
              "    }\n",
              "  </style>\n",
              "\n",
              "      <script>\n",
              "        const buttonEl =\n",
              "          document.querySelector('#df-308228d1-9dec-4b61-840e-5b4dbc79f5dd button.colab-df-convert');\n",
              "        buttonEl.style.display =\n",
              "          google.colab.kernel.accessAllowed ? 'block' : 'none';\n",
              "\n",
              "        async function convertToInteractive(key) {\n",
              "          const element = document.querySelector('#df-308228d1-9dec-4b61-840e-5b4dbc79f5dd');\n",
              "          const dataTable =\n",
              "            await google.colab.kernel.invokeFunction('convertToInteractive',\n",
              "                                                     [key], {});\n",
              "          if (!dataTable) return;\n",
              "\n",
              "          const docLinkHtml = 'Like what you see? Visit the ' +\n",
              "            '<a target=\"_blank\" href=https://colab.research.google.com/notebooks/data_table.ipynb>data table notebook</a>'\n",
              "            + ' to learn more about interactive tables.';\n",
              "          element.innerHTML = '';\n",
              "          dataTable['output_type'] = 'display_data';\n",
              "          await google.colab.output.renderOutput(dataTable, element);\n",
              "          const docLink = document.createElement('div');\n",
              "          docLink.innerHTML = docLinkHtml;\n",
              "          element.appendChild(docLink);\n",
              "        }\n",
              "      </script>\n",
              "    </div>\n",
              "  </div>\n",
              "  "
            ]
          },
          "metadata": {},
          "execution_count": 46
        }
      ]
    },
    {
      "cell_type": "code",
      "source": [
        "final_data.pivot_table(index='member_casual', values='ride_lenght_in_mins',aggfunc=np.mean).plot(kind='barh',width=0.5)\n",
        "plt.xticks(size=12)\n",
        "plt.yticks(size=12)\n",
        "plt.title(\"Average ride duration\",size=16)\n",
        "plt.show()"
      ],
      "metadata": {
        "colab": {
          "base_uri": "https://localhost:8080/",
          "height": 286
        },
        "id": "pVjcGba9maz9",
        "outputId": "55c17566-26c7-4cf3-f42a-c4c8675514d6"
      },
      "execution_count": null,
      "outputs": [
        {
          "output_type": "display_data",
          "data": {
            "text/plain": [
              "<Figure size 432x288 with 1 Axes>"
            ],
            "image/png": "[encoded data removed]"
          },
          "metadata": {
            "needs_background": "light"
          }
        }
      ]
    },
    {
      "cell_type": "code",
      "source": [
        "# Calculate the average ride_length for users by day_of_week.\n",
        "final_data.pivot_table(index='member_casual', columns='day_of_week', values='ride_lenght_in_mins',aggfunc=np.mean)"
      ],
      "metadata": {
        "colab": {
          "base_uri": "https://localhost:8080/",
          "height": 143
        },
        "id": "JJGC-7vpnXpw",
        "outputId": "1a34f117-4104-4fac-87ab-2303a9a02c65"
      },
      "execution_count": null,
      "outputs": [
        {
          "output_type": "execute_result",
          "data": {
            "text/plain": [
              "day_of_week       Friday     Monday   Saturday     Sunday   Thursday  \\\n",
              "member_casual                                                          \n",
              "casual         20.856506  22.586639  23.976365  25.293050  19.378081   \n",
              "member         12.390825  12.274630  14.072470  14.392466  11.952822   \n",
              "\n",
              "day_of_week      Tuesday  Wednesday  \n",
              "member_casual                        \n",
              "casual         20.432842  19.781902  \n",
              "member         11.996517  12.041614  "
            ],
            "text/html": [
              "\n",
              "  <div id=\"df-da3d8804-e547-433f-90ad-3259dc42b7a2\">\n",
              "    <div class=\"colab-df-container\">\n",
              "      <div>\n",
              "<style scoped>\n",
              "    .dataframe tbody tr th:only-of-type {\n",
              "        vertical-align: middle;\n",
              "    }\n",
              "\n",
              "    .dataframe tbody tr th {\n",
              "        vertical-align: top;\n",
              "    }\n",
              "\n",
              "    .dataframe thead th {\n",
              "        text-align: right;\n",
              "    }\n",
              "</style>\n",
              "<table border=\"1\" class=\"dataframe\">\n",
              "  <thead>\n",
              "    <tr style=\"text-align: right;\">\n",
              "      <th>day_of_week</th>\n",
              "      <th>Friday</th>\n",
              "      <th>Monday</th>\n",
              "      <th>Saturday</th>\n",
              "      <th>Sunday</th>\n",
              "      <th>Thursday</th>\n",
              "      <th>Tuesday</th>\n",
              "      <th>Wednesday</th>\n",
              "    </tr>\n",
              "    <tr>\n",
              "      <th>member_casual</th>\n",
              "      <th></th>\n",
              "      <th></th>\n",
              "      <th></th>\n",
              "      <th></th>\n",
              "      <th></th>\n",
              "      <th></th>\n",
              "      <th></th>\n",
              "    </tr>\n",
              "  </thead>\n",
              "  <tbody>\n",
              "    <tr>\n",
              "      <th>casual</th>\n",
              "      <td>20.856506</td>\n",
              "      <td>22.586639</td>\n",
              "      <td>23.976365</td>\n",
              "      <td>25.293050</td>\n",
              "      <td>19.378081</td>\n",
              "      <td>20.432842</td>\n",
              "      <td>19.781902</td>\n",
              "    </tr>\n",
              "    <tr>\n",
              "      <th>member</th>\n",
              "      <td>12.390825</td>\n",
              "      <td>12.274630</td>\n",
              "      <td>14.072470</td>\n",
              "      <td>14.392466</td>\n",
              "      <td>11.952822</td>\n",
              "      <td>11.996517</td>\n",
              "      <td>12.041614</td>\n",
              "    </tr>\n",
              "  </tbody>\n",
              "</table>\n",
              "</div>\n",
              "      <button class=\"colab-df-convert\" onclick=\"convertToInteractive('df-da3d8804-e547-433f-90ad-3259dc42b7a2')\"\n",
              "              title=\"Convert this dataframe to an interactive table.\"\n",
              "              style=\"display:none;\">\n",
              "        \n",
              "  <svg xmlns=\"http://www.w3.org/2000/svg\" height=\"24px\"viewBox=\"0 0 24 24\"\n",
              "       width=\"24px\">\n",
              "    <path d=\"M0 0h24v24H0V0z\" fill=\"none\"/>\n",
              "    <path d=\"M18.56 5.44l.94 2.06.94-2.06 2.06-.94-2.06-.94-.94-2.06-.94 2.06-2.06.94zm-11 1L8.5 8.5l.94-2.06 2.06-.94-2.06-.94L8.5 2.5l-.94 2.06-2.06.94zm10 10l.94 2.06.94-2.06 2.06-.94-2.06-.94-.94-2.06-.94 2.06-2.06.94z\"/><path d=\"M17.41 7.96l-1.37-1.37c-.4-.4-.92-.59-1.43-.59-.52 0-1.04.2-1.43.59L10.3 9.45l-7.72 7.72c-.78.78-.78 2.05 0 2.83L4 21.41c.39.39.9.59 1.41.59.51 0 1.02-.2 1.41-.59l7.78-7.78 2.81-2.81c.8-.78.8-2.07 0-2.86zM5.41 20L4 18.59l7.72-7.72 1.47 1.35L5.41 20z\"/>\n",
              "  </svg>\n",
              "      </button>\n",
              "      \n",
              "  <style>\n",
              "    .colab-df-container {\n",
              "      display:flex;\n",
              "      flex-wrap:wrap;\n",
              "      gap: 12px;\n",
              "    }\n",
              "\n",
              "    .colab-df-convert {\n",
              "      background-color: #E8F0FE;\n",
              "      border: none;\n",
              "      border-radius: 50%;\n",
              "      cursor: pointer;\n",
              "      display: none;\n",
              "      fill: #1967D2;\n",
              "      height: 32px;\n",
              "      padding: 0 0 0 0;\n",
              "      width: 32px;\n",
              "    }\n",
              "\n",
              "    .colab-df-convert:hover {\n",
              "      background-color: #E2EBFA;\n",
              "      box-shadow: 0px 1px 2px rgba(60, 64, 67, 0.3), 0px 1px 3px 1px rgba(60, 64, 67, 0.15);\n",
              "      fill: #174EA6;\n",
              "    }\n",
              "\n",
              "    [theme=dark] .colab-df-convert {\n",
              "      background-color: #3B4455;\n",
              "      fill: #D2E3FC;\n",
              "    }\n",
              "\n",
              "    [theme=dark] .colab-df-convert:hover {\n",
              "      background-color: #434B5C;\n",
              "      box-shadow: 0px 1px 3px 1px rgba(0, 0, 0, 0.15);\n",
              "      filter: drop-shadow(0px 1px 2px rgba(0, 0, 0, 0.3));\n",
              "      fill: #FFFFFF;\n",
              "    }\n",
              "  </style>\n",
              "\n",
              "      <script>\n",
              "        const buttonEl =\n",
              "          document.querySelector('#df-da3d8804-e547-433f-90ad-3259dc42b7a2 button.colab-df-convert');\n",
              "        buttonEl.style.display =\n",
              "          google.colab.kernel.accessAllowed ? 'block' : 'none';\n",
              "\n",
              "        async function convertToInteractive(key) {\n",
              "          const element = document.querySelector('#df-da3d8804-e547-433f-90ad-3259dc42b7a2');\n",
              "          const dataTable =\n",
              "            await google.colab.kernel.invokeFunction('convertToInteractive',\n",
              "                                                     [key], {});\n",
              "          if (!dataTable) return;\n",
              "\n",
              "          const docLinkHtml = 'Like what you see? Visit the ' +\n",
              "            '<a target=\"_blank\" href=https://colab.research.google.com/notebooks/data_table.ipynb>data table notebook</a>'\n",
              "            + ' to learn more about interactive tables.';\n",
              "          element.innerHTML = '';\n",
              "          dataTable['output_type'] = 'display_data';\n",
              "          await google.colab.output.renderOutput(dataTable, element);\n",
              "          const docLink = document.createElement('div');\n",
              "          docLink.innerHTML = docLinkHtml;\n",
              "          element.appendChild(docLink);\n",
              "        }\n",
              "      </script>\n",
              "    </div>\n",
              "  </div>\n",
              "  "
            ]
          },
          "metadata": {},
          "execution_count": 48
        }
      ]
    },
    {
      "cell_type": "markdown",
      "source": [
        "**Observation**\n",
        "\n",
        "---\n",
        "\n",
        "\n",
        "* More rides being taken by Casual members on **Sunday's** whereas Annual membership users taking more rides on **Saturday's**"
      ],
      "metadata": {
        "id": "szqeWokNo55U"
      }
    },
    {
      "cell_type": "code",
      "source": [
        "final_data.pivot_table(index='member_casual', columns='day_of_week', values='ride_lenght_in_mins',aggfunc=np.mean).T.plot()\n",
        "plt.xticks(rotation=90)\n",
        "plt.ylabel(\"Avg.ride duration\",size=12)\n",
        "plt.xlabel(\"Weekday\",size=12)\n",
        "plt.show()"
      ],
      "metadata": {
        "colab": {
          "base_uri": "https://localhost:8080/",
          "height": 330
        },
        "id": "xrDXjtmhmA_Y",
        "outputId": "9666bc35-80a9-42ff-cb56-72308c159986"
      },
      "execution_count": null,
      "outputs": [
        {
          "output_type": "display_data",
          "data": {
            "text/plain": [
              "<Figure size 432x288 with 1 Axes>"
            ],
            "image/png": "[encoded data removed]"
          },
          "metadata": {
            "needs_background": "light"
          }
        }
      ]
    },
    {
      "cell_type": "code",
      "source": [
        "final_data.pivot_table(index='member_casual', columns='started_hour', values='ride_lenght_in_mins',aggfunc=np.mean).T.plot()\n",
        "plt.xticks(rotation=90)\n",
        "plt.ylabel(\"Avg.ride duration\",size=12)\n",
        "plt.xlabel(\"Hour\",size=12)\n",
        "plt.show()"
      ],
      "metadata": {
        "colab": {
          "base_uri": "https://localhost:8080/",
          "height": 288
        },
        "id": "n5-BcvGjoyYM",
        "outputId": "1d9d39e2-3d4e-48a3-b0ae-bc23a8a568e9"
      },
      "execution_count": null,
      "outputs": [
        {
          "output_type": "display_data",
          "data": {
            "text/plain": [
              "<Figure size 432x288 with 1 Axes>"
            ],
            "image/png": "[encoded data removed]"
          },
          "metadata": {
            "needs_background": "light"
          }
        }
      ]
    },
    {
      "cell_type": "markdown",
      "source": [
        "* Compare to Annaul Members, Casual members are using the commute from **7 AM** to **5 PM**."
      ],
      "metadata": {
        "id": "3QbBqqwIpW6b"
      }
    },
    {
      "cell_type": "code",
      "source": [
        "final_data.pivot_table(index='start_month', values='ride_id',aggfunc='count').sort_values(['ride_id'])"
      ],
      "metadata": {
        "colab": {
          "base_uri": "https://localhost:8080/",
          "height": 457
        },
        "id": "6Rr_VwqztrJM",
        "outputId": "18490e95-7776-4eef-e0f5-d9ba9c054a10"
      },
      "execution_count": null,
      "outputs": [
        {
          "output_type": "execute_result",
          "data": {
            "text/plain": [
              "             ride_id\n",
              "start_month         \n",
              "January       103155\n",
              "February      114925\n",
              "March         225860\n",
              "December      246367\n",
              "April         332631\n",
              "November      358229\n",
              "May           522732\n",
              "October       626082\n",
              "June          718078\n",
              "September     747888\n",
              "August        794176\n",
              "July          810358"
            ],
            "text/html": [
              "\n",
              "  <div id=\"df-7c03e4fc-026f-4ca3-b97b-2fa635f983ad\">\n",
              "    <div class=\"colab-df-container\">\n",
              "      <div>\n",
              "<style scoped>\n",
              "    .dataframe tbody tr th:only-of-type {\n",
              "        vertical-align: middle;\n",
              "    }\n",
              "\n",
              "    .dataframe tbody tr th {\n",
              "        vertical-align: top;\n",
              "    }\n",
              "\n",
              "    .dataframe thead th {\n",
              "        text-align: right;\n",
              "    }\n",
              "</style>\n",
              "<table border=\"1\" class=\"dataframe\">\n",
              "  <thead>\n",
              "    <tr style=\"text-align: right;\">\n",
              "      <th></th>\n",
              "      <th>ride_id</th>\n",
              "    </tr>\n",
              "    <tr>\n",
              "      <th>start_month</th>\n",
              "      <th></th>\n",
              "    </tr>\n",
              "  </thead>\n",
              "  <tbody>\n",
              "    <tr>\n",
              "      <th>January</th>\n",
              "      <td>103155</td>\n",
              "    </tr>\n",
              "    <tr>\n",
              "      <th>February</th>\n",
              "      <td>114925</td>\n",
              "    </tr>\n",
              "    <tr>\n",
              "      <th>March</th>\n",
              "      <td>225860</td>\n",
              "    </tr>\n",
              "    <tr>\n",
              "      <th>December</th>\n",
              "      <td>246367</td>\n",
              "    </tr>\n",
              "    <tr>\n",
              "      <th>April</th>\n",
              "      <td>332631</td>\n",
              "    </tr>\n",
              "    <tr>\n",
              "      <th>November</th>\n",
              "      <td>358229</td>\n",
              "    </tr>\n",
              "    <tr>\n",
              "      <th>May</th>\n",
              "      <td>522732</td>\n",
              "    </tr>\n",
              "    <tr>\n",
              "      <th>October</th>\n",
              "      <td>626082</td>\n",
              "    </tr>\n",
              "    <tr>\n",
              "      <th>June</th>\n",
              "      <td>718078</td>\n",
              "    </tr>\n",
              "    <tr>\n",
              "      <th>September</th>\n",
              "      <td>747888</td>\n",
              "    </tr>\n",
              "    <tr>\n",
              "      <th>August</th>\n",
              "      <td>794176</td>\n",
              "    </tr>\n",
              "    <tr>\n",
              "      <th>July</th>\n",
              "      <td>810358</td>\n",
              "    </tr>\n",
              "  </tbody>\n",
              "</table>\n",
              "</div>\n",
              "      <button class=\"colab-df-convert\" onclick=\"convertToInteractive('df-7c03e4fc-026f-4ca3-b97b-2fa635f983ad')\"\n",
              "              title=\"Convert this dataframe to an interactive table.\"\n",
              "              style=\"display:none;\">\n",
              "        \n",
              "  <svg xmlns=\"http://www.w3.org/2000/svg\" height=\"24px\"viewBox=\"0 0 24 24\"\n",
              "       width=\"24px\">\n",
              "    <path d=\"M0 0h24v24H0V0z\" fill=\"none\"/>\n",
              "    <path d=\"M18.56 5.44l.94 2.06.94-2.06 2.06-.94-2.06-.94-.94-2.06-.94 2.06-2.06.94zm-11 1L8.5 8.5l.94-2.06 2.06-.94-2.06-.94L8.5 2.5l-.94 2.06-2.06.94zm10 10l.94 2.06.94-2.06 2.06-.94-2.06-.94-.94-2.06-.94 2.06-2.06.94z\"/><path d=\"M17.41 7.96l-1.37-1.37c-.4-.4-.92-.59-1.43-.59-.52 0-1.04.2-1.43.59L10.3 9.45l-7.72 7.72c-.78.78-.78 2.05 0 2.83L4 21.41c.39.39.9.59 1.41.59.51 0 1.02-.2 1.41-.59l7.78-7.78 2.81-2.81c.8-.78.8-2.07 0-2.86zM5.41 20L4 18.59l7.72-7.72 1.47 1.35L5.41 20z\"/>\n",
              "  </svg>\n",
              "      </button>\n",
              "      \n",
              "  <style>\n",
              "    .colab-df-container {\n",
              "      display:flex;\n",
              "      flex-wrap:wrap;\n",
              "      gap: 12px;\n",
              "    }\n",
              "\n",
              "    .colab-df-convert {\n",
              "      background-color: #E8F0FE;\n",
              "      border: none;\n",
              "      border-radius: 50%;\n",
              "      cursor: pointer;\n",
              "      display: none;\n",
              "      fill: #1967D2;\n",
              "      height: 32px;\n",
              "      padding: 0 0 0 0;\n",
              "      width: 32px;\n",
              "    }\n",
              "\n",
              "    .colab-df-convert:hover {\n",
              "      background-color: #E2EBFA;\n",
              "      box-shadow: 0px 1px 2px rgba(60, 64, 67, 0.3), 0px 1px 3px 1px rgba(60, 64, 67, 0.15);\n",
              "      fill: #174EA6;\n",
              "    }\n",
              "\n",
              "    [theme=dark] .colab-df-convert {\n",
              "      background-color: #3B4455;\n",
              "      fill: #D2E3FC;\n",
              "    }\n",
              "\n",
              "    [theme=dark] .colab-df-convert:hover {\n",
              "      background-color: #434B5C;\n",
              "      box-shadow: 0px 1px 3px 1px rgba(0, 0, 0, 0.15);\n",
              "      filter: drop-shadow(0px 1px 2px rgba(0, 0, 0, 0.3));\n",
              "      fill: #FFFFFF;\n",
              "    }\n",
              "  </style>\n",
              "\n",
              "      <script>\n",
              "        const buttonEl =\n",
              "          document.querySelector('#df-7c03e4fc-026f-4ca3-b97b-2fa635f983ad button.colab-df-convert');\n",
              "        buttonEl.style.display =\n",
              "          google.colab.kernel.accessAllowed ? 'block' : 'none';\n",
              "\n",
              "        async function convertToInteractive(key) {\n",
              "          const element = document.querySelector('#df-7c03e4fc-026f-4ca3-b97b-2fa635f983ad');\n",
              "          const dataTable =\n",
              "            await google.colab.kernel.invokeFunction('convertToInteractive',\n",
              "                                                     [key], {});\n",
              "          if (!dataTable) return;\n",
              "\n",
              "          const docLinkHtml = 'Like what you see? Visit the ' +\n",
              "            '<a target=\"_blank\" href=https://colab.research.google.com/notebooks/data_table.ipynb>data table notebook</a>'\n",
              "            + ' to learn more about interactive tables.';\n",
              "          element.innerHTML = '';\n",
              "          dataTable['output_type'] = 'display_data';\n",
              "          await google.colab.output.renderOutput(dataTable, element);\n",
              "          const docLink = document.createElement('div');\n",
              "          docLink.innerHTML = docLinkHtml;\n",
              "          element.appendChild(docLink);\n",
              "        }\n",
              "      </script>\n",
              "    </div>\n",
              "  </div>\n",
              "  "
            ]
          },
          "metadata": {},
          "execution_count": 51
        }
      ]
    },
    {
      "cell_type": "code",
      "source": [
        "final_data.pivot_table(index='start_month', values='ride_id',aggfunc='count').sort_values(['ride_id']).plot()\n",
        "plt.show()\n"
      ],
      "metadata": {
        "colab": {
          "base_uri": "https://localhost:8080/",
          "height": 280
        },
        "id": "D6QS3guks5ky",
        "outputId": "17bef962-f026-4729-d065-f57046949f82"
      },
      "execution_count": null,
      "outputs": [
        {
          "output_type": "display_data",
          "data": {
            "text/plain": [
              "<Figure size 432x288 with 1 Axes>"
            ],
            "image/png": "[encoded data removed]"
          },
          "metadata": {
            "needs_background": "light"
          }
        }
      ]
    },
    {
      "cell_type": "markdown",
      "source": [
        "# **Recommendations:**\n",
        "\n",
        "---\n",
        "\n",
        "\n",
        "\n",
        "* Launch marketing campaigns in Summer (from June to August).\n",
        "* Special weekend rates beneficial for longer rides\n",
        "* Member rewards programs based on covered distance, ride duration, and ride frequencies.\n"
      ],
      "metadata": {
        "id": "sR4DKJIqt1nE"
      }
    },
    {
      "cell_type": "code",
      "source": [
        "# Calculate the number of rides for users by day_of_week\n",
        "final_data.pivot_table(index='day_of_week',columns='start_month',values='ride_id',aggfunc='count')\n"
      ],
      "metadata": {
        "id": "VQZQZvAyo47L",
        "colab": {
          "base_uri": "https://localhost:8080/",
          "height": 300
        },
        "outputId": "f80acb24-91bb-40ae-e848-c52cf3a261ac"
      },
      "execution_count": null,
      "outputs": [
        {
          "output_type": "execute_result",
          "data": {
            "text/plain": [
              "start_month  April  August  December  February  January    July    June  \\\n",
              "day_of_week                                                               \n",
              "Friday       58084  110442     42230     14569    13721  134493   99154   \n",
              "Monday       43213  108822     30052     22651    15712   93353   77986   \n",
              "Saturday     53307  132655     29977     12402    14679  159595  119728   \n",
              "Sunday       49375  140166     23673     15740    11411  107116  111118   \n",
              "Thursday     40145  100636     47573     13449    16463  120021   89611   \n",
              "Tuesday      51485  110010     28287     18957    16070   96683  108216   \n",
              "Wednesday    37022   91445     44575     17157    15099   99097  112265   \n",
              "\n",
              "start_month  March     May  November  October  September  \n",
              "day_of_week                                               \n",
              "Friday       25475   65344     42882    98676     102031  \n",
              "Monday       34410   74810     59630    63319      91465  \n",
              "Saturday     44582  109504     49584   127283     122242  \n",
              "Sunday       34903  101512     43582    99249     113133  \n",
              "Thursday     21349   57964     42497    69170     121314  \n",
              "Tuesday      33698   51568     67087    84221      83311  \n",
              "Wednesday    31443   62030     52967    84164     114392  "
            ],
            "text/html": [
              "\n",
              "  <div id=\"df-caabe930-79fe-4d58-8e1e-1bbebf45c87e\">\n",
              "    <div class=\"colab-df-container\">\n",
              "      <div>\n",
              "<style scoped>\n",
              "    .dataframe tbody tr th:only-of-type {\n",
              "        vertical-align: middle;\n",
              "    }\n",
              "\n",
              "    .dataframe tbody tr th {\n",
              "        vertical-align: top;\n",
              "    }\n",
              "\n",
              "    .dataframe thead th {\n",
              "        text-align: right;\n",
              "    }\n",
              "</style>\n",
              "<table border=\"1\" class=\"dataframe\">\n",
              "  <thead>\n",
              "    <tr style=\"text-align: right;\">\n",
              "      <th>start_month</th>\n",
              "      <th>April</th>\n",
              "      <th>August</th>\n",
              "      <th>December</th>\n",
              "      <th>February</th>\n",
              "      <th>January</th>\n",
              "      <th>July</th>\n",
              "      <th>June</th>\n",
              "      <th>March</th>\n",
              "      <th>May</th>\n",
              "      <th>November</th>\n",
              "      <th>October</th>\n",
              "      <th>September</th>\n",
              "    </tr>\n",
              "    <tr>\n",
              "      <th>day_of_week</th>\n",
              "      <th></th>\n",
              "      <th></th>\n",
              "      <th></th>\n",
              "      <th></th>\n",
              "      <th></th>\n",
              "      <th></th>\n",
              "      <th></th>\n",
              "      <th></th>\n",
              "      <th></th>\n",
              "      <th></th>\n",
              "      <th></th>\n",
              "      <th></th>\n",
              "    </tr>\n",
              "  </thead>\n",
              "  <tbody>\n",
              "    <tr>\n",
              "      <th>Friday</th>\n",
              "      <td>58084</td>\n",
              "      <td>110442</td>\n",
              "      <td>42230</td>\n",
              "      <td>14569</td>\n",
              "      <td>13721</td>\n",
              "      <td>134493</td>\n",
              "      <td>99154</td>\n",
              "      <td>25475</td>\n",
              "      <td>65344</td>\n",
              "      <td>42882</td>\n",
              "      <td>98676</td>\n",
              "      <td>102031</td>\n",
              "    </tr>\n",
              "    <tr>\n",
              "      <th>Monday</th>\n",
              "      <td>43213</td>\n",
              "      <td>108822</td>\n",
              "      <td>30052</td>\n",
              "      <td>22651</td>\n",
              "      <td>15712</td>\n",
              "      <td>93353</td>\n",
              "      <td>77986</td>\n",
              "      <td>34410</td>\n",
              "      <td>74810</td>\n",
              "      <td>59630</td>\n",
              "      <td>63319</td>\n",
              "      <td>91465</td>\n",
              "    </tr>\n",
              "    <tr>\n",
              "      <th>Saturday</th>\n",
              "      <td>53307</td>\n",
              "      <td>132655</td>\n",
              "      <td>29977</td>\n",
              "      <td>12402</td>\n",
              "      <td>14679</td>\n",
              "      <td>159595</td>\n",
              "      <td>119728</td>\n",
              "      <td>44582</td>\n",
              "      <td>109504</td>\n",
              "      <td>49584</td>\n",
              "      <td>127283</td>\n",
              "      <td>122242</td>\n",
              "    </tr>\n",
              "    <tr>\n",
              "      <th>Sunday</th>\n",
              "      <td>49375</td>\n",
              "      <td>140166</td>\n",
              "      <td>23673</td>\n",
              "      <td>15740</td>\n",
              "      <td>11411</td>\n",
              "      <td>107116</td>\n",
              "      <td>111118</td>\n",
              "      <td>34903</td>\n",
              "      <td>101512</td>\n",
              "      <td>43582</td>\n",
              "      <td>99249</td>\n",
              "      <td>113133</td>\n",
              "    </tr>\n",
              "    <tr>\n",
              "      <th>Thursday</th>\n",
              "      <td>40145</td>\n",
              "      <td>100636</td>\n",
              "      <td>47573</td>\n",
              "      <td>13449</td>\n",
              "      <td>16463</td>\n",
              "      <td>120021</td>\n",
              "      <td>89611</td>\n",
              "      <td>21349</td>\n",
              "      <td>57964</td>\n",
              "      <td>42497</td>\n",
              "      <td>69170</td>\n",
              "      <td>121314</td>\n",
              "    </tr>\n",
              "    <tr>\n",
              "      <th>Tuesday</th>\n",
              "      <td>51485</td>\n",
              "      <td>110010</td>\n",
              "      <td>28287</td>\n",
              "      <td>18957</td>\n",
              "      <td>16070</td>\n",
              "      <td>96683</td>\n",
              "      <td>108216</td>\n",
              "      <td>33698</td>\n",
              "      <td>51568</td>\n",
              "      <td>67087</td>\n",
              "      <td>84221</td>\n",
              "      <td>83311</td>\n",
              "    </tr>\n",
              "    <tr>\n",
              "      <th>Wednesday</th>\n",
              "      <td>37022</td>\n",
              "      <td>91445</td>\n",
              "      <td>44575</td>\n",
              "      <td>17157</td>\n",
              "      <td>15099</td>\n",
              "      <td>99097</td>\n",
              "      <td>112265</td>\n",
              "      <td>31443</td>\n",
              "      <td>62030</td>\n",
              "      <td>52967</td>\n",
              "      <td>84164</td>\n",
              "      <td>114392</td>\n",
              "    </tr>\n",
              "  </tbody>\n",
              "</table>\n",
              "</div>\n",
              "      <button class=\"colab-df-convert\" onclick=\"convertToInteractive('df-caabe930-79fe-4d58-8e1e-1bbebf45c87e')\"\n",
              "              title=\"Convert this dataframe to an interactive table.\"\n",
              "              style=\"display:none;\">\n",
              "        \n",
              "  <svg xmlns=\"http://www.w3.org/2000/svg\" height=\"24px\"viewBox=\"0 0 24 24\"\n",
              "       width=\"24px\">\n",
              "    <path d=\"M0 0h24v24H0V0z\" fill=\"none\"/>\n",
              "    <path d=\"M18.56 5.44l.94 2.06.94-2.06 2.06-.94-2.06-.94-.94-2.06-.94 2.06-2.06.94zm-11 1L8.5 8.5l.94-2.06 2.06-.94-2.06-.94L8.5 2.5l-.94 2.06-2.06.94zm10 10l.94 2.06.94-2.06 2.06-.94-2.06-.94-.94-2.06-.94 2.06-2.06.94z\"/><path d=\"M17.41 7.96l-1.37-1.37c-.4-.4-.92-.59-1.43-.59-.52 0-1.04.2-1.43.59L10.3 9.45l-7.72 7.72c-.78.78-.78 2.05 0 2.83L4 21.41c.39.39.9.59 1.41.59.51 0 1.02-.2 1.41-.59l7.78-7.78 2.81-2.81c.8-.78.8-2.07 0-2.86zM5.41 20L4 18.59l7.72-7.72 1.47 1.35L5.41 20z\"/>\n",
              "  </svg>\n",
              "      </button>\n",
              "      \n",
              "  <style>\n",
              "    .colab-df-container {\n",
              "      display:flex;\n",
              "      flex-wrap:wrap;\n",
              "      gap: 12px;\n",
              "    }\n",
              "\n",
              "    .colab-df-convert {\n",
              "      background-color: #E8F0FE;\n",
              "      border: none;\n",
              "      border-radius: 50%;\n",
              "      cursor: pointer;\n",
              "      display: none;\n",
              "      fill: #1967D2;\n",
              "      height: 32px;\n",
              "      padding: 0 0 0 0;\n",
              "      width: 32px;\n",
              "    }\n",
              "\n",
              "    .colab-df-convert:hover {\n",
              "      background-color: #E2EBFA;\n",
              "      box-shadow: 0px 1px 2px rgba(60, 64, 67, 0.3), 0px 1px 3px 1px rgba(60, 64, 67, 0.15);\n",
              "      fill: #174EA6;\n",
              "    }\n",
              "\n",
              "    [theme=dark] .colab-df-convert {\n",
              "      background-color: #3B4455;\n",
              "      fill: #D2E3FC;\n",
              "    }\n",
              "\n",
              "    [theme=dark] .colab-df-convert:hover {\n",
              "      background-color: #434B5C;\n",
              "      box-shadow: 0px 1px 3px 1px rgba(0, 0, 0, 0.15);\n",
              "      filter: drop-shadow(0px 1px 2px rgba(0, 0, 0, 0.3));\n",
              "      fill: #FFFFFF;\n",
              "    }\n",
              "  </style>\n",
              "\n",
              "      <script>\n",
              "        const buttonEl =\n",
              "          document.querySelector('#df-caabe930-79fe-4d58-8e1e-1bbebf45c87e button.colab-df-convert');\n",
              "        buttonEl.style.display =\n",
              "          google.colab.kernel.accessAllowed ? 'block' : 'none';\n",
              "\n",
              "        async function convertToInteractive(key) {\n",
              "          const element = document.querySelector('#df-caabe930-79fe-4d58-8e1e-1bbebf45c87e');\n",
              "          const dataTable =\n",
              "            await google.colab.kernel.invokeFunction('convertToInteractive',\n",
              "                                                     [key], {});\n",
              "          if (!dataTable) return;\n",
              "\n",
              "          const docLinkHtml = 'Like what you see? Visit the ' +\n",
              "            '<a target=\"_blank\" href=https://colab.research.google.com/notebooks/data_table.ipynb>data table notebook</a>'\n",
              "            + ' to learn more about interactive tables.';\n",
              "          element.innerHTML = '';\n",
              "          dataTable['output_type'] = 'display_data';\n",
              "          await google.colab.output.renderOutput(dataTable, element);\n",
              "          const docLink = document.createElement('div');\n",
              "          docLink.innerHTML = docLinkHtml;\n",
              "          element.appendChild(docLink);\n",
              "        }\n",
              "      </script>\n",
              "    </div>\n",
              "  </div>\n",
              "  "
            ]
          },
          "metadata": {},
          "execution_count": 53
        }
      ]
    },
    {
      "cell_type": "code",
      "source": [
        "## Source stations only rided by any customer only once in entire year.\n",
        "final_data.start_station_name.value_counts()[final_data.start_station_name.value_counts()==1]"
      ],
      "metadata": {
        "colab": {
          "base_uri": "https://localhost:8080/"
        },
        "id": "T2tCIn9AD4X4",
        "outputId": "33e13099-481d-4596-81e6-1a236b0fb1c8"
      },
      "execution_count": null,
      "outputs": [
        {
          "output_type": "execute_result",
          "data": {
            "text/plain": [
              "Wilton Ave & Diversey Pkwy - Charging           1\n",
              "N Damen Ave & W Wabansia St                     1\n",
              "Hastings WH 2                                   1\n",
              "Pawel Bialowas - Test- PBSC charging station    1\n",
              "Lyft Driver Center Private Rack                 1\n",
              "DIVVY CASSETTE REPAIR MOBILE STATION            1\n",
              "N Hampden Ct & W Diversey Ave                   1\n",
              "Whipple St & Irving Park Rd                     1\n",
              "California & 16th St                            1\n",
              "Name: start_station_name, dtype: int64"
            ]
          },
          "metadata": {},
          "execution_count": 54
        }
      ]
    },
    {
      "cell_type": "code",
      "source": [
        "final_data.pivot_table(index='start_station_name',columns='member_casual',values='ride_id',aggfunc='count').sort_values(['casual','member'],ascending=False).head(15).plot(kind='barh')\n",
        "plt.ylabel(\"Start Station Name\",size=12)\n",
        "plt.xlabel(\"Total Rides\",size=12)\n",
        "plt.show()"
      ],
      "metadata": {
        "colab": {
          "base_uri": "https://localhost:8080/",
          "height": 282
        },
        "id": "-0sPrr2YnZ3J",
        "outputId": "0bbbd55c-dbd0-411d-bef2-23b3a3a710a9"
      },
      "execution_count": null,
      "outputs": [
        {
          "output_type": "display_data",
          "data": {
            "text/plain": [
              "<Figure size 432x288 with 1 Axes>"
            ],
            "image/png": "[encoded data removed]"
          },
          "metadata": {
            "needs_background": "light"
          }
        }
      ]
    },
    {
      "cell_type": "markdown",
      "source": [
        "* To make the casual mebers to annual members we can make arrange of Advertismet slides and all promotional activities in these areas as shown above."
      ],
      "metadata": {
        "id": "QG4Owc-rp_0k"
      }
    },
    {
      "cell_type": "code",
      "source": [
        "final_data.pivot_table(index='rideable_type',columns='member_casual',values='ride_lenght_in_mins',aggfunc=np.mean)"
      ],
      "metadata": {
        "colab": {
          "base_uri": "https://localhost:8080/",
          "height": 175
        },
        "id": "l_jOhSDOpwru",
        "outputId": "b04d7307-e18a-4ce6-e906-b8da820a85e8"
      },
      "execution_count": null,
      "outputs": [
        {
          "output_type": "execute_result",
          "data": {
            "text/plain": [
              "member_casual     casual     member\n",
              "rideable_type                      \n",
              "classic_bike   22.238476  13.036543\n",
              "docked_bike    34.656852        NaN\n",
              "electric_bike  18.517036  12.031795"
            ],
            "text/html": [
              "\n",
              "  <div id=\"df-73071da2-a520-44d9-b6c6-58ae30a47007\">\n",
              "    <div class=\"colab-df-container\">\n",
              "      <div>\n",
              "<style scoped>\n",
              "    .dataframe tbody tr th:only-of-type {\n",
              "        vertical-align: middle;\n",
              "    }\n",
              "\n",
              "    .dataframe tbody tr th {\n",
              "        vertical-align: top;\n",
              "    }\n",
              "\n",
              "    .dataframe thead th {\n",
              "        text-align: right;\n",
              "    }\n",
              "</style>\n",
              "<table border=\"1\" class=\"dataframe\">\n",
              "  <thead>\n",
              "    <tr style=\"text-align: right;\">\n",
              "      <th>member_casual</th>\n",
              "      <th>casual</th>\n",
              "      <th>member</th>\n",
              "    </tr>\n",
              "    <tr>\n",
              "      <th>rideable_type</th>\n",
              "      <th></th>\n",
              "      <th></th>\n",
              "    </tr>\n",
              "  </thead>\n",
              "  <tbody>\n",
              "    <tr>\n",
              "      <th>classic_bike</th>\n",
              "      <td>22.238476</td>\n",
              "      <td>13.036543</td>\n",
              "    </tr>\n",
              "    <tr>\n",
              "      <th>docked_bike</th>\n",
              "      <td>34.656852</td>\n",
              "      <td>NaN</td>\n",
              "    </tr>\n",
              "    <tr>\n",
              "      <th>electric_bike</th>\n",
              "      <td>18.517036</td>\n",
              "      <td>12.031795</td>\n",
              "    </tr>\n",
              "  </tbody>\n",
              "</table>\n",
              "</div>\n",
              "      <button class=\"colab-df-convert\" onclick=\"convertToInteractive('df-73071da2-a520-44d9-b6c6-58ae30a47007')\"\n",
              "              title=\"Convert this dataframe to an interactive table.\"\n",
              "              style=\"display:none;\">\n",
              "        \n",
              "  <svg xmlns=\"http://www.w3.org/2000/svg\" height=\"24px\"viewBox=\"0 0 24 24\"\n",
              "       width=\"24px\">\n",
              "    <path d=\"M0 0h24v24H0V0z\" fill=\"none\"/>\n",
              "    <path d=\"M18.56 5.44l.94 2.06.94-2.06 2.06-.94-2.06-.94-.94-2.06-.94 2.06-2.06.94zm-11 1L8.5 8.5l.94-2.06 2.06-.94-2.06-.94L8.5 2.5l-.94 2.06-2.06.94zm10 10l.94 2.06.94-2.06 2.06-.94-2.06-.94-.94-2.06-.94 2.06-2.06.94z\"/><path d=\"M17.41 7.96l-1.37-1.37c-.4-.4-.92-.59-1.43-.59-.52 0-1.04.2-1.43.59L10.3 9.45l-7.72 7.72c-.78.78-.78 2.05 0 2.83L4 21.41c.39.39.9.59 1.41.59.51 0 1.02-.2 1.41-.59l7.78-7.78 2.81-2.81c.8-.78.8-2.07 0-2.86zM5.41 20L4 18.59l7.72-7.72 1.47 1.35L5.41 20z\"/>\n",
              "  </svg>\n",
              "      </button>\n",
              "      \n",
              "  <style>\n",
              "    .colab-df-container {\n",
              "      display:flex;\n",
              "      flex-wrap:wrap;\n",
              "      gap: 12px;\n",
              "    }\n",
              "\n",
              "    .colab-df-convert {\n",
              "      background-color: #E8F0FE;\n",
              "      border: none;\n",
              "      border-radius: 50%;\n",
              "      cursor: pointer;\n",
              "      display: none;\n",
              "      fill: #1967D2;\n",
              "      height: 32px;\n",
              "      padding: 0 0 0 0;\n",
              "      width: 32px;\n",
              "    }\n",
              "\n",
              "    .colab-df-convert:hover {\n",
              "      background-color: #E2EBFA;\n",
              "      box-shadow: 0px 1px 2px rgba(60, 64, 67, 0.3), 0px 1px 3px 1px rgba(60, 64, 67, 0.15);\n",
              "      fill: #174EA6;\n",
              "    }\n",
              "\n",
              "    [theme=dark] .colab-df-convert {\n",
              "      background-color: #3B4455;\n",
              "      fill: #D2E3FC;\n",
              "    }\n",
              "\n",
              "    [theme=dark] .colab-df-convert:hover {\n",
              "      background-color: #434B5C;\n",
              "      box-shadow: 0px 1px 3px 1px rgba(0, 0, 0, 0.15);\n",
              "      filter: drop-shadow(0px 1px 2px rgba(0, 0, 0, 0.3));\n",
              "      fill: #FFFFFF;\n",
              "    }\n",
              "  </style>\n",
              "\n",
              "      <script>\n",
              "        const buttonEl =\n",
              "          document.querySelector('#df-73071da2-a520-44d9-b6c6-58ae30a47007 button.colab-df-convert');\n",
              "        buttonEl.style.display =\n",
              "          google.colab.kernel.accessAllowed ? 'block' : 'none';\n",
              "\n",
              "        async function convertToInteractive(key) {\n",
              "          const element = document.querySelector('#df-73071da2-a520-44d9-b6c6-58ae30a47007');\n",
              "          const dataTable =\n",
              "            await google.colab.kernel.invokeFunction('convertToInteractive',\n",
              "                                                     [key], {});\n",
              "          if (!dataTable) return;\n",
              "\n",
              "          const docLinkHtml = 'Like what you see? Visit the ' +\n",
              "            '<a target=\"_blank\" href=https://colab.research.google.com/notebooks/data_table.ipynb>data table notebook</a>'\n",
              "            + ' to learn more about interactive tables.';\n",
              "          element.innerHTML = '';\n",
              "          dataTable['output_type'] = 'display_data';\n",
              "          await google.colab.output.renderOutput(dataTable, element);\n",
              "          const docLink = document.createElement('div');\n",
              "          docLink.innerHTML = docLinkHtml;\n",
              "          element.appendChild(docLink);\n",
              "        }\n",
              "      </script>\n",
              "    </div>\n",
              "  </div>\n",
              "  "
            ]
          },
          "metadata": {},
          "execution_count": 56
        }
      ]
    },
    {
      "cell_type": "code",
      "source": [
        "final_data.pivot_table(index='rideable_type',columns='member_casual',values='ride_lenght_in_mins',aggfunc=np.mean).plot(kind='bar')"
      ],
      "metadata": {
        "colab": {
          "base_uri": "https://localhost:8080/",
          "height": 350
        },
        "id": "UcTy9UU-qmBD",
        "outputId": "b418b26f-794a-48a8-969e-a49fd81af9a5"
      },
      "execution_count": null,
      "outputs": [
        {
          "output_type": "execute_result",
          "data": {
            "text/plain": [
              "<matplotlib.axes._subplots.AxesSubplot at 0x7feb96fd9a50>"
            ]
          },
          "metadata": {},
          "execution_count": 57
        },
        {
          "output_type": "display_data",
          "data": {
            "text/plain": [
              "<Figure size 432x288 with 1 Axes>"
            ],
            "image/png": "[encoded data removed]"
          },
          "metadata": {
            "needs_background": "light"
          }
        }
      ]
    },
    {
      "cell_type": "code",
      "source": [
        "final_data.pivot_table(index='rideable_type',columns='member_casual',values='ride_id',aggfunc='count').plot(kind='bar')\n",
        "plt.ylabel(\"TOtal Customers per K(1000)\",size=12)\n",
        "plt.show()\n"
      ],
      "metadata": {
        "colab": {
          "base_uri": "https://localhost:8080/",
          "height": 344
        },
        "id": "q_y_9aMDrDwN",
        "outputId": "4d624ace-843f-4bbf-83f7-3c2dbbaff74e"
      },
      "execution_count": null,
      "outputs": [
        {
          "output_type": "display_data",
          "data": {
            "text/plain": [
              "<Figure size 432x288 with 1 Axes>"
            ],
            "image/png": "[encoded data removed]"
          },
          "metadata": {
            "needs_background": "light"
          }
        }
      ]
    },
    {
      "cell_type": "code",
      "source": [
        "final_data.pivot_table(index='rideable_type',columns='start_month',values='ride_id',aggfunc='count').T.plot()\n",
        "plt.ylabel(\"Total rides\")\n",
        "plt.xticks(rotation=90)\n",
        "plt.show()\n"
      ],
      "metadata": {
        "colab": {
          "base_uri": "https://localhost:8080/",
          "height": 322
        },
        "id": "Yi1E6-ivrpnb",
        "outputId": "3de42d17-6793-491b-aad1-9e004a5e13a9"
      },
      "execution_count": null,
      "outputs": [
        {
          "output_type": "display_data",
          "data": {
            "text/plain": [
              "<Figure size 432x288 with 1 Axes>"
            ],
            "image/png": "[encoded data removed]"
          },
          "metadata": {
            "needs_background": "light"
          }
        }
      ]
    },
    {
      "cell_type": "markdown",
      "source": [
        "* Docked bikes were least popular compared to classic bike and Electric bikes\n",
        "* “Classic Bikes” were more popular over the months and more users tend to choose “Classic Bikes” over the “Docked Bikes”.\n",
        "* It is important to figure out why users tend to prefer “Classic Bikes” more than “Docked Bikes”.\n",
        "\n",
        "* In the same time, I shows the increase of the popularity of the “Electric Bikes” as well."
      ],
      "metadata": {
        "id": "7LTppnCPsYa9"
      }
    },
    {
      "cell_type": "markdown",
      "source": [
        ""
      ],
      "metadata": {
        "id": "3c1i7aGBsYUL"
      }
    },
    {
      "cell_type": "markdown",
      "source": [
        "# **Recommendations**\n",
        "* Implement a new annual membership tier at a lower price point where a total number of rides are allotted for a given time period (e.g. week, month), versus current annual membership structure (unlimited number of rides, 45-min. limit per ride), and given that on average, casual riders spend more time on their rides than current members, but on average only 1480 sec.(24.67 min.)\n",
        "* Implement a limited time promotion for annual membership that loosens limits on Friday, Saturday, Sunday rides, given those are the most popular days casual riders use Cyclistic bikes\n",
        "* Add more electric bikes to inventory given casual riders prefer them over classic bikes\n",
        "\n",
        "* Launch marketing campaigns in Summer (from June to August)."
      ],
      "metadata": {
        "id": "kaHgLyrBqrs7"
      }
    },
    {
      "cell_type": "code",
      "source": [
        ""
      ],
      "metadata": {
        "id": "1na7R13jqmHl"
      },
      "execution_count": null,
      "outputs": []
    }
  ]
}